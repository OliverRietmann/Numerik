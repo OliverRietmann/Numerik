{
 "cells": [
  {
   "cell_type": "markdown",
   "id": "c46ac2ce",
   "metadata": {},
   "source": [
    "# Woche 1: Einführung in Python\n",
    "\n",
    "Lernziele:\n",
    "\n",
    "1. Ich kann mit der Klasse `numpy.array` Vektoren und Matrizen erstellen diese manipulieren.\n",
    "2. Ich weiss, was die Operatoren `+,-,*,/,**` mit einem `numpy.array` machen.\n",
    "3. Ich kenne den Unterschied zwischen `numpy.sqrt` und `math.sqrt` (analog für weitere Funktionen).\n",
    "4. Ich kann mit dem Package `matplotlib` die Funktion `numpy.sin` plotten.\n",
    "5. Ich kann in Python eigene Funktionen definieren und diese ausführen.\n",
    "\n",
    "## Variablen, Zeichenketten (Strings), Listen und Schleifen\n",
    "\n",
    "Anführungszeichen `\"...\"` definieren eine Zeichenkette (engl. string)."
   ]
  },
  {
   "cell_type": "code",
   "execution_count": null,
   "id": "6609c44d",
   "metadata": {},
   "outputs": [],
   "source": [
    "x = 3\n",
    "var = \"I am a string.\"\n",
    "print(x, \"x\", var)"
   ]
  },
  {
   "cell_type": "markdown",
   "id": "8e0f34af",
   "metadata": {},
   "source": [
    "Eckige Klammern `[...]` definieren eine Liste.\n",
    "Auf die einzelnen Elemente einer Liste greifen wir mit `[i]` zu, wobei `i` eine ganze Zahl bezeichnet."
   ]
  },
  {
   "cell_type": "code",
   "execution_count": null,
   "id": "686320fb",
   "metadata": {},
   "outputs": [],
   "source": [
    "l = [1, 2, 3]\n",
    "print(l[1])"
   ]
  },
  {
   "cell_type": "markdown",
   "id": "80412d6a",
   "metadata": {},
   "source": [
    "Mit einer `for` Schleife (engl. loop) können wir über Listen iterieren.\n",
    "Der eingerückte Code wir dabei wiederholt."
   ]
  },
  {
   "cell_type": "code",
   "execution_count": null,
   "id": "7a9b524f",
   "metadata": {},
   "outputs": [],
   "source": [
    "l = [1, \"two\", 3]\n",
    "print(l)\n",
    "for n in l:\n",
    "  print(n)"
   ]
  },
  {
   "cell_type": "markdown",
   "id": "8284e630",
   "metadata": {},
   "source": [
    ":::{admonition} Aufgabe\n",
    "Ergänzen Sie folgenden Code mit einer `if` Anweisung, so dass er angibt, ob die Variable `n` gerade oder ungerade ist.\n",
    ":::"
   ]
  },
  {
   "cell_type": "code",
   "execution_count": null,
   "id": "42df3bcc",
   "metadata": {},
   "outputs": [],
   "source": [
    "n = 3\n",
    "# Ihr Code kommt hier hin:\n",
    "# ...\n",
    "# ..."
   ]
  },
  {
   "cell_type": "markdown",
   "id": "27c426e1",
   "metadata": {},
   "source": [
    "## Python als Taschenrechner\n",
    "\n",
    ":::{admonition} Aufgabe\n",
    "Was ist der Output des folgenden Codes?\n",
    ":::"
   ]
  },
  {
   "cell_type": "code",
   "execution_count": null,
   "id": "8d218fa3",
   "metadata": {},
   "outputs": [],
   "source": [
    "print(2 + 3)\n",
    "print(2 * 3)\n",
    "print(2 / 3)\n",
    "print(2**3)\n",
    "print(2^3)"
   ]
  },
  {
   "cell_type": "markdown",
   "id": "7c2017e9",
   "metadata": {},
   "source": [
    "Das Modul (engl. module) `math` enthält diverse Funktionen aus der Mathematik."
   ]
  },
  {
   "cell_type": "code",
   "execution_count": null,
   "id": "e9509ab6",
   "metadata": {},
   "outputs": [],
   "source": [
    "import math\n",
    "\n",
    "print(math.sqrt(45))\n",
    "print(math.pow(23, 1 / 5))"
   ]
  },
  {
   "cell_type": "markdown",
   "id": "e5b9140e",
   "metadata": {},
   "source": [
    "## Funktionen\n",
    "\n",
    "Wir können auch unsere eigenen Funktionen definieren."
   ]
  },
  {
   "cell_type": "code",
   "execution_count": null,
   "id": "618d6109",
   "metadata": {},
   "outputs": [],
   "source": [
    "def log17(x):\n",
    "  y = math.log(x) / math.log(17)\n",
    "  return y"
   ]
  },
  {
   "cell_type": "markdown",
   "id": "08594910",
   "metadata": {},
   "source": [
    ":::{admonition} Aufgabe\n",
    "Welchen Wert haben `log17(17)` und `log17(17**2)`?\n",
    ":::\n",
    "\n",
    "Eine Funktion kann auch mehrere Argumente haben.\n",
    ":::{admonition} Aufgabe\n",
    "Folgende Funktion soll zwei gleich lange Listen elementweise addieren. Korrigieren Sie die Funktion.\n",
    ":::"
   ]
  },
  {
   "cell_type": "code",
   "execution_count": null,
   "id": "e4a8394f",
   "metadata": {},
   "outputs": [],
   "source": [
    "l1 = [1, 2, 3]\n",
    "l2 = [4, 5, 6]\n",
    "\n",
    "def sum_lists(v, w):\n",
    "  return v + w\n",
    "\n",
    "print(sum_lists(l1, l2))"
   ]
  },
  {
   "cell_type": "markdown",
   "id": "bc928f65",
   "metadata": {},
   "source": [
    "Eine Funktion kann auch mehrere Argumente haben.\n",
    ":::{admonition} Aufgabe\n",
    "Folgende Funktion soll eine Skalar-Vektor Multiplikation machen. Korrigieren Sie die Funktion.\n",
    ":::"
   ]
  },
  {
   "cell_type": "code",
   "execution_count": null,
   "id": "a8c0913d",
   "metadata": {},
   "outputs": [],
   "source": [
    "l = [1, 2, 3]\n",
    "\n",
    "def skalar_mult(s, v):\n",
    "  return s * v\n",
    "\n",
    "print(skalar_mult(3, l))"
   ]
  },
  {
   "cell_type": "markdown",
   "id": "fb000521",
   "metadata": {},
   "source": [
    "## Vektoren und Matrizen\n",
    "\n",
    "Das Paket (engl. package) `numpy` enthält die wichtigsten Funktionen aus der linearen Algebra.\n",
    "Es kann Listen in `numpy.arrays` umwandeln.\n",
    "Diese verhalten sich wie Vektoren und Matrizen."
   ]
  },
  {
   "cell_type": "code",
   "execution_count": null,
   "id": "4b40a309",
   "metadata": {},
   "outputs": [],
   "source": [
    "import numpy as np\n",
    "\n",
    "l = [1, 2, 3]\n",
    "x = np.array(l)\n",
    "y = np.array([4, 5, 6])\n",
    "\n",
    "print(x + y)\n",
    "print(3 * x)"
   ]
  },
  {
   "cell_type": "markdown",
   "id": "417237ef",
   "metadata": {},
   "source": [
    "Im Gegensatz zu `math` agieren die `numpy` Funktionen elementweise."
   ]
  },
  {
   "cell_type": "code",
   "execution_count": null,
   "id": "a2250074",
   "metadata": {},
   "outputs": [],
   "source": [
    "import numpy as np\n",
    "\n",
    "x = np.array([1, 2, 3])\n",
    "print(np.sqrt(x))"
   ]
  },
  {
   "cell_type": "markdown",
   "id": "f7fe2363",
   "metadata": {},
   "source": [
    "Das Skalarprodukt zweier Vektoren berechnet man mit `numpy.dot`."
   ]
  },
  {
   "cell_type": "code",
   "execution_count": null,
   "id": "9d56d49f",
   "metadata": {},
   "outputs": [],
   "source": [
    "import numpy as np\n",
    "\n",
    "v = np.array([1, 2, 3])\n",
    "w = np.array([0, 0, 1])\n",
    "print(np.dot(v, w))"
   ]
  },
  {
   "cell_type": "markdown",
   "id": "f02fba47",
   "metadata": {},
   "source": [
    "Matrizen entstehen aus Listen von Listen.\n",
    "In diesem Fall berechnet `numpy.dot` das Matrix-Matrix Produkt."
   ]
  },
  {
   "cell_type": "code",
   "execution_count": null,
   "id": "b2296093",
   "metadata": {},
   "outputs": [],
   "source": [
    "import numpy as np\n",
    "\n",
    "A = np.array([[16,  3],\n",
    "              [ 5, 10],\n",
    "              [ 9,  6]])\n",
    "\n",
    "B = np.array([[1, 2, 3],\n",
    "              [4, 6, 6]])\n",
    "\n",
    "print(np.dot(A, B))\n",
    "# Gleich wie A.dot(B) und A @ B\n",
    "# Probieren Sie mal np.shape(A)"
   ]
  },
  {
   "cell_type": "markdown",
   "id": "6b933c9d",
   "metadata": {},
   "source": [
    "Es gibt effiziente Funktionen um spezielle Matrizen zu erstellen.\n",
    "| Funktion         | Beschreibung   |\n",
    "|------------------|:---------------|\n",
    "| `eye`            | Einheitsmatrix |\n",
    "| `zeros`          | Nullmatrix     |\n",
    "| `ones`           | Alles Einsen   |\n",
    "| `diag`           | Diagonalmatrix |\n",
    "| `random.random`  | Alles Einsen   |"
   ]
  },
  {
   "cell_type": "code",
   "execution_count": null,
   "id": "606b4c92",
   "metadata": {},
   "outputs": [],
   "source": [
    "import numpy as np\n",
    "\n",
    "R = np.random.random((2,3))\n",
    "print(R)"
   ]
  },
  {
   "cell_type": "markdown",
   "id": "b2327a04",
   "metadata": {},
   "source": [
    "Mit `[...]` kann man auf die Einträge von Matrizen und Vektoren zugreifen."
   ]
  },
  {
   "cell_type": "code",
   "execution_count": null,
   "id": "d3ac2c56",
   "metadata": {},
   "outputs": [],
   "source": [
    "import numpy as np\n",
    "\n",
    "v = np.array([1, 2, 3])\n",
    "print(v[1])\n",
    "\n",
    "A = np.array([[16,  3],\n",
    "              [ 5, 10],\n",
    "              [ 9,  6]])\n",
    "print(A[1, 2])"
   ]
  },
  {
   "cell_type": "markdown",
   "id": "c2d347dd",
   "metadata": {},
   "source": [
    "Das `numpy.array` übernimmt den Datentyp der Zahlen in der Liste im Argument.\n",
    ":::{admonition} Aufgabe\n",
    "Was ist der Output des folgenden Codes? Erklären Sie.\n",
    ":::"
   ]
  },
  {
   "cell_type": "code",
   "execution_count": null,
   "id": "0c597042",
   "metadata": {},
   "outputs": [],
   "source": [
    "import numpy as np\n",
    "\n",
    "x = np.array([1])\n",
    "x[0] = x[0] / 2\n",
    "print(x[0])"
   ]
  },
  {
   "cell_type": "markdown",
   "id": "1efb9fb0",
   "metadata": {},
   "source": [
    ":::{admonition} Aufgabe\n",
    "1. Berechnen Sie den Sinus von 30 Grad in Python.\n",
    "2. Überlegen Sie sich Varianten zur Definition der Matrix\n",
    "\n",
    "$$\n",
    "\\begin{pmatrix}\n",
    "  0 & 1 & 1 & 1 & 1 \\\\\n",
    "  1 & 0 & 1 & 1 & 1 \\\\\n",
    "  1 & 1 & 0 & 1 & 1 \\\\\n",
    "  1 & 1 & 1 & 0 & 1 \\\\\n",
    "  1 & 1 & 1 & 1 & 0 \\\\\n",
    "\\end{pmatrix}.\n",
    "$$\n",
    ":::"
   ]
  },
  {
   "cell_type": "code",
   "execution_count": null,
   "id": "b97395b8",
   "metadata": {},
   "outputs": [],
   "source": [
    "import numpy as np\n",
    "\n",
    "# Ihr Code kommt hier hin."
   ]
  },
  {
   "cell_type": "markdown",
   "id": "730f0e06",
   "metadata": {},
   "source": [
    "## Graphische Darstellungen\n",
    "\n",
    "Um Funktionen zu plotten müssen wir sie an vielen verschiedenen Positionen auf der x-Achse auswerten.\n",
    "Dazu gibt es die Funktion `numpy.linspace`."
   ]
  },
  {
   "cell_type": "code",
   "execution_count": null,
   "id": "b8f32a7d",
   "metadata": {},
   "outputs": [],
   "source": [
    "import numpy as np\n",
    "\n",
    "x = np.linspace(1, 5, 4)\n",
    "print(x)"
   ]
  },
  {
   "cell_type": "markdown",
   "id": "1240eb5c",
   "metadata": {},
   "source": [
    ":::{admonition} Aufgabe\n",
    "Seien `start < stop` und sei `num` eine ganze Zahl.\n",
    "Beschreiben Sie in Worten, was der Aufruf `numpy.linspace(start, stop, num)` macht.\n",
    ":::\n",
    "\n",
    "Zum Plotten verwenden wir das Modul `matplotlib.pyplot`."
   ]
  },
  {
   "cell_type": "code",
   "execution_count": null,
   "id": "1c03291c",
   "metadata": {},
   "outputs": [],
   "source": [
    "import numpy as np\n",
    "import matplotlib.pyplot as plt\n",
    "\n",
    "x = np.linspace(0, 2 * np.pi, 100)\n",
    "y = np.sin(x)\n",
    "\n",
    "plt.figure()\n",
    "plt.plot(x, y, color=\"red\")\n",
    "plt.title(\"Plot von sin(x)\")\n",
    "plt.xlabel(\"x\")\n",
    "plt.ylabel(\"sin(x)\")\n",
    "plt.show()"
   ]
  },
  {
   "cell_type": "markdown",
   "id": "c9794717",
   "metadata": {},
   "source": [
    ":::{admonition} Aufgabe\n",
    "Ändern Sie obigen Code, so dass er das Polynom\n",
    "\n",
    "$$ p(x)=x^2 + x + 17 $$\n",
    "\n",
    "plottet.\n",
    ":::\n",
    "\n",
    "Oft will man mehrere Funktionen gleichzeitig plotten.\n",
    ":::{admonition} Aufgabe\n",
    "Ergänzen Sie folgenden Code, so dass er die drei Funktionen im selben Koordinatensystem plottet.\n",
    ":::"
   ]
  },
  {
   "cell_type": "code",
   "execution_count": null,
   "id": "e1fb2402",
   "metadata": {},
   "outputs": [],
   "source": [
    "import numpy as np\n",
    "import matplotlib.pyplot as plt\n",
    "\n",
    "x = np.linspace(0, 20, 100)\n",
    "y1 = np.sin(x) / np.sqrt(x + 1)\n",
    "y2 = np.sin(x / 2) / np.sqrt(x + 1)\n",
    "y3 = np.sin(x / 3) / np.sqrt(x + 1)\n",
    "\n",
    "plt.figure()\n",
    "plt.xlabel(\"x\")\n",
    "# Ihr Code kommt hier hin\n",
    "# ...\n",
    "plt.show()"
   ]
  },
  {
   "cell_type": "markdown",
   "id": "63ad4e08",
   "metadata": {},
   "source": [
    "Oder man mach separate Plots."
   ]
  },
  {
   "cell_type": "code",
   "execution_count": null,
   "id": "2e5a63c2",
   "metadata": {},
   "outputs": [],
   "source": [
    "import numpy as np\n",
    "import matplotlib.pyplot as plt\n",
    "\n",
    "x = np.linspace(0, 2 * np.pi, 100)\n",
    "y = np.sin(x)\n",
    "\n",
    "fig, ax = plt.subplots(2)\n",
    "fig.suptitle(\"Vertically stacked subplots\")\n",
    "ax[0].plot(x,  y, color=\"red\" )\n",
    "ax[1].plot(x, -y, color=\"blue\")\n",
    "plt.show()"
   ]
  },
  {
   "cell_type": "markdown",
   "id": "26e1a694",
   "metadata": {},
   "source": [
    ":::{admonition} Aufgabe\n",
    "Was müssen Sie ändern, damit die Plots nebeneinander stehen?\n",
    ":::\n",
    "\n",
    "\n",
    "## Weitere Aufgaben\n",
    "\n",
    ":::{admonition} Aufgabe 1\n",
    "Schreiben Sie ein Skript, das die Funktionen $x = \\cos(t)$ und $y = \\sin(t)$ mit $t$ im Intervall $[0, 2\\pi]$ auswertet und mittels `matplotlib.pyplot.plot(x, y)` darstellt.\n",
    "(Hilfestellung: Sie brauchen geeignete Stützstellen $t$ im Intervall.)\n",
    ":::\n",
    "\n",
    ":::{admonition} Aufgabe 2\n",
    "Modifizieren Sie das vorangegangene Programm zu einer Python-Funktion, die als Argumente die linke und rechte Intervallgrenze $a$ und $b$ des $t$-Intervalls entgegennimmt.\n",
    ":::\n",
    "\n",
    ":::{admonition} Aufgabe 3\n",
    "Schreiben Sie eine Python-Funktion, die die Funktionen $x = \\sin(At+a)$ und $y = \\sin(Bt+b)$ für $t$ im Intervall $[0, 2\\pi]$ auswertet und mittels `matplotlib.pyplot.plot(x, y)` darstellt.\n",
    "Dabei sollen A, a und B, b die Argumente der Funktion sein.\n",
    ":::\n",
    "\n",
    ":::{admonition} Aufgabe 4\n",
    "Experimentieren Sie mit folgenden Werten:\n",
    "\n",
    "$$ A = 2, a = \\pi / 4, B = 1, b = 0 $$\n",
    "$$ A = 3, a = \\pi / 2, B = 1, b = 0 $$\n",
    "$$ A = 1, a = 0, B = 1, b = 0 $$\n",
    "\n",
    "Variieren Sie dann weiter A, a, B und b.\n",
    "Was stellen Sie fest? Beschreiben Sie ihre Beobachtungen in Worten.\n",
    "Welche Bedeutung haben a, b sowie A, B? Recherchieren Sie asserdem im Internet das Thema ”Lissajous Figuren”.\n",
    ":::"
   ]
  }
 ],
 "metadata": {
  "jupytext": {
   "cell_metadata_filter": "-all",
   "formats": "md:myst",
   "text_representation": {
    "extension": ".md",
    "format_name": "myst",
    "format_version": 0.13,
    "jupytext_version": "1.11.5"
   }
  },
  "kernelspec": {
   "display_name": "Python 3",
   "language": "python",
   "name": "python3"
  },
  "source_map": [
   14,
   29,
   33,
   37,
   40,
   44,
   49,
   54,
   59,
   67,
   73,
   76,
   81,
   86,
   90,
   99,
   107,
   113,
   120,
   127,
   136,
   139,
   144,
   147,
   153,
   157,
   170,
   180,
   185,
   188,
   198,
   204,
   210,
   225,
   229,
   235,
   240,
   247,
   260,
   273,
   287,
   290,
   302
  ]
 },
 "nbformat": 4,
 "nbformat_minor": 5
}