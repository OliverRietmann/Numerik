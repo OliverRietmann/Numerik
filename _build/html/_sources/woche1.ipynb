{
 "cells": [
  {
   "cell_type": "markdown",
   "id": "eefcedc2",
   "metadata": {},
   "source": [
    "# Woche 1: Einführung in Python\n",
    "\n",
    "Lernziele:\n",
    "\n",
    "1. Ich kann mit der Klasse `numpy.array` Vektoren und Matrizen erstellen diese manipulieren.\n",
    "2. Ich weiss, was die Operatoren `+,-,*,/,**` mit einem `numpy.array` machen.\n",
    "3. Ich kenne den Unterschied zwischen `numpy.sqrt` und `math.sqrt` (analog für weitere Funktionen).\n",
    "4. Ich kann mit dem Package `matplotlib` die Funktion `numpy.sin` plotten.\n",
    "5. Ich kann in Python eigene Funktionen definieren und diese ausführen.\n",
    "\n",
    "## Variablen, Zeichenketten (Strings), Listen und Schleifen\n",
    "\n",
    "Was ist der Output des folgenden Codes?"
   ]
  },
  {
   "cell_type": "code",
   "execution_count": null,
   "id": "e4cdcfa8",
   "metadata": {},
   "outputs": [],
   "source": [
    "x = 3\n",
    "print(x)\n",
    "print(\"x\")\n",
    "\n",
    "var = \"I am a string.\"\n",
    "print(var)"
   ]
  },
  {
   "cell_type": "code",
   "execution_count": null,
   "id": "f29853bd",
   "metadata": {},
   "outputs": [],
   "source": [
    "l = [1, 2, 3]\n",
    "print(l)\n",
    "print(l[1])\n",
    "print(l[-1])\n",
    "\n",
    "l = [1, \"two\", 3]\n",
    "print(l)\n",
    "for n in l:\n",
    "  print(n)\n",
    "  print(\"Within the loop.\")\n",
    "print(\"Outside of the loop.\")"
   ]
  },
  {
   "cell_type": "code",
   "execution_count": null,
   "id": "21b0161e",
   "metadata": {},
   "outputs": [],
   "source": [
    "for i in range(3):\n",
    "  if i % 2 == 0:\n",
    "    print(i)\n"
   ]
  },
  {
   "cell_type": "markdown",
   "id": "bfc8410e",
   "metadata": {},
   "source": [
    "## Python als Taschenrechner\n",
    "\n",
    "Was ist der Output des folgenden Codes?"
   ]
  },
  {
   "cell_type": "code",
   "execution_count": null,
   "id": "70762cbe",
   "metadata": {},
   "outputs": [],
   "source": [
    "print(2 + 3)\n",
    "print(2 * 3)\n",
    "print(2**3)"
   ]
  },
  {
   "cell_type": "markdown",
   "id": "be287855",
   "metadata": {},
   "source": [
    "Whether you write your book's content in Jupyter Notebooks (`.ipynb`) or\n",
    "in regular markdown files (`.md`), you'll write in the same flavor of markdown\n",
    "called **MyST Markdown**.\n",
    "This is a simple file to help you get started and show off some syntax.\n",
    "\n",
    "## What is MyST?\n",
    "\n",
    "MyST stands for \"Markedly Structured Text\". It\n",
    "is a slight variation on a flavor of markdown called \"CommonMark\" markdown,\n",
    "with small syntax extensions to allow you to write **roles** and **directives**\n",
    "in the Sphinx ecosystem.\n",
    "\n",
    "For more about MyST, see [the MyST Markdown Overview](https://jupyterbook.org/content/myst.html).\n",
    "\n",
    "## Sample Roles and Directives\n",
    "\n",
    "Roles and directives are two of the most powerful tools in Jupyter Book. They\n",
    "are kind of like functions, but written in a markup language. They both\n",
    "serve a similar purpose, but **roles are written in one line**, whereas\n",
    "**directives span many lines**. They both accept different kinds of inputs,\n",
    "and what they do with those inputs depends on the specific role or directive\n",
    "that is being called.\n",
    "\n",
    "Here is a \"note\" directive:\n",
    "\n",
    "```{note}\n",
    "Here is a note\n",
    "```\n",
    "\n",
    "It will be rendered in a special box when you build your book.\n",
    "\n",
    "Here is an inline directive to refer to a document: {doc}`woche2`.\n",
    "\n",
    "\n",
    "## Citations\n",
    "\n",
    "You can also cite references that are stored in a `bibtex` file. For example,\n",
    "the following syntax: `` {cite}`holdgraf_evidence_2014` `` will render like\n",
    "this: {cite}`holdgraf_evidence_2014`.\n",
    "\n",
    "Moreover, you can insert a bibliography into your page with this syntax:\n",
    "The `{bibliography}` directive must be used for all the `{cite}` roles to\n",
    "render properly.\n",
    "For example, if the references for your book are stored in `references.bib`,\n",
    "then the bibliography is inserted with:\n",
    "\n",
    "```{bibliography}\n",
    "```\n",
    "\n",
    "## Learn more\n",
    "\n",
    "This is just a simple starter to get you started.\n",
    "You can learn a lot more at [jupyterbook.org](https://jupyterbook.org)."
   ]
  }
 ],
 "metadata": {
  "jupytext": {
   "cell_metadata_filter": "-all",
   "formats": "md:myst",
   "text_representation": {
    "extension": ".md",
    "format_name": "myst",
    "format_version": 0.13,
    "jupytext_version": "1.11.5"
   }
  },
  "kernelspec": {
   "display_name": "Python 3",
   "language": "python",
   "name": "python3"
  },
  "source_map": [
   14,
   30,
   39,
   53,
   58,
   64,
   68
  ]
 },
 "nbformat": 4,
 "nbformat_minor": 5
}