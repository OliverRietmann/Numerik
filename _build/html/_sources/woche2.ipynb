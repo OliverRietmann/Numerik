{
 "cells": [
  {
   "cell_type": "markdown",
   "id": "095529ad",
   "metadata": {},
   "source": [
    "# Woche 2: Grundlagen der Numerik mit Python\n",
    "\n",
    "Lernziele:\n",
    "\n",
    "1. Ich kann die Auslöschung erklären.\n",
    "2. Ich kann die Absorbtion erklären.\n",
    "3. Ich kann `if` / `else` Blöcke nutzen.\n",
    "4. Ich kann `for` und `while` Schleifen implementieren.\n",
    "\n",
    "## Endliche Arithmetik\n",
    "\n",
    "Die Ableitung einer stetig differenzierbaren Funktion $f$ an der Stelle $x_0$ ist definiert als\n",
    "\n",
    "$$\n",
    "f^\\prime(x_0)= \\lim\\limits_{h\\rightarrow 0} \\frac{f(x_0+h)-f(x_0)}{h}.\n",
    "$$\n",
    "\n",
    "Für $f(x)=\\tfrac{1}{2}x^2$ erhalten wir zum Beispiel $f^\\prime(x)=x$.\n",
    "Folgender Code appriximiert also für `h` nahe bei Null die Ableitung an der Stelle `x0`."
   ]
  },
  {
   "cell_type": "code",
   "execution_count": null,
   "id": "2c62283c",
   "metadata": {},
   "outputs": [],
   "source": [
    "def derivative(g, x0, h):\n",
    "  return (g(x0 + h) - g(x0)) / h\n",
    "\n",
    "def f(x):\n",
    "  return 0.5 * x**2\n",
    "\n",
    "h_list = [10**(-4), 10**(-6), 10**(-8), 10**(-10), 10**(-12)]\n",
    "for h in h_list:\n",
    "  df = derivative(f, 1.0, h)\n",
    "  print(df)"
   ]
  },
  {
   "cell_type": "markdown",
   "id": "83a460fe",
   "metadata": {},
   "source": [
    ":::{admonition} Aufgabe\n",
    "Was beobachten Sie im obigem Code? Finden Sie eine Erklärung.\n",
    ":::\n",
    "\n",
    "Archmides entwickelte einen Algorithmus zur Berechnung der Kreiszahl $\\pi$.\n",
    "Dabei approximiert er den Umfang des Einheitskreises (Radius 1),\n",
    "welcher genau $2\\pi$ entspricht.\n",
    "Dem Kreis wird ein $n$-Eck einbeschrieben.\n",
    "Sei $s_n$ dessen Seitenlänge.\n",
    "Für die Seitenlänge $s_{2n}$ eines einbeschriebenen $2n$-Ecks\n",
    "gilt dann die Rekursionsformel\n",
    "\n",
    "$$\n",
    "s_{2n}=\\sqrt{2-2\\sqrt{1-\\frac{s_n^2}{4}}}\n",
    "$$\n",
    "\n",
    "Für das $4$-Eck gilt zum Beispiel $s_4=\\sqrt{2}$.\n",
    "Wir verzichten hier auf die (einfache) Herleitung dieser Formel.\n",
    "\n",
    "```{image} images/archimedes.png\n",
    ":alt: archimedes\n",
    ":class: fig\n",
    ":width: 300px\n",
    ":align: center\n",
    "```"
   ]
  },
  {
   "cell_type": "code",
   "execution_count": null,
   "id": "b26acb14",
   "metadata": {},
   "outputs": [],
   "source": [
    "import numpy as np\n",
    "\n",
    "n = 4\n",
    "s = np.sqrt(2.0)\n",
    "for i in range(27):\n",
    "  n = 2 * n\n",
    "  s = np.sqrt(2.0 - 2.0 * np.sqrt(1.0 - 0.25 * s**2))\n",
    "  pi_approx = 0.5 * n * s\n",
    "  print(n, \"\\t\", pi_approx)"
   ]
  },
  {
   "cell_type": "markdown",
   "id": "87d496ad",
   "metadata": {},
   "source": [
    "Bezüglich $\\pi=4$ gibt es einen fun-fact: [Indiana Pi Bill](https://de.wikipedia.org/wiki/Indiana_Pi_Bill)\n",
    "\n",
    "Da $\\pi$ eine irrationale Zahl ist, kann sie auch im Binärsystem nicht exakt dargestellt werden.\n",
    "Auch die Zahl $0.1$ kann im Binärsystem nicht exakt dargestellt werden.\n",
    "\n",
    "$$\n",
    "0.1=\\frac{1}{10}=\\frac{1}{16}+\\frac{1}{32}+\\frac{1}{256}+\\frac{1}{512}+\\cdots\n",
    "$$\n",
    "\n",
    "Das heisst, die Darstellung dieser Zahl auf dem Computer ist immer fehlerbehaftet.\n",
    "Gleitkommazahlen haben in der Nähe von Null die beste Auflösung.\n",
    "\n",
    "```{image} images/gleitkommazahl.png\n",
    ":alt: gleitkommazahl\n",
    ":class: fig\n",
    ":width: 600px\n",
    ":align: center\n",
    "```\n",
    "\n",
    "```{image} images/exakt.png\n",
    ":alt: exakt\n",
    ":class: fig\n",
    ":width: 600px\n",
    ":align: center\n",
    "```\n",
    "\n",
    ":::{warning}\n",
    "Seien $a$ und $b$ zwei Gleitkommazahlen, die aus.\n",
    "- **Auslöschung:** Wenn $a$ und $b$ etwa gleich gross sind, dann kann das Resultat von $a-b$ einen grossen relativen Fehler haben.\n",
    "- **Absorbtion:** Ist $a$ viel grösser ist $b$, so liegt das Ergebnis von $a+b$ zu nahe an $a$.\n",
    ":::\n",
    "\n",
    "Hier sind ein paar Beispiele."
   ]
  },
  {
   "cell_type": "code",
   "execution_count": null,
   "id": "0c0d20c5",
   "metadata": {},
   "outputs": [],
   "source": [
    "def float_print(x):\n",
    "  print(\"{0:0.20f}\".format(x))\n",
    "\n",
    "float_print(0.1)\n",
    "float_print((1.0 / 3.0)**3 - 1 / 27)  # Auslöschung\n",
    "float_print(1.0 + 1e-16)              # Absorbtion"
   ]
  },
  {
   "cell_type": "markdown",
   "id": "6262f618",
   "metadata": {},
   "source": [
    "Die Eigenschaften eines `numpy` floats kann man abfragen."
   ]
  },
  {
   "cell_type": "code",
   "execution_count": null,
   "id": "85e7fd59",
   "metadata": {},
   "outputs": [],
   "source": [
    "import numpy as np\n",
    "\n",
    "np.finfo(float)"
   ]
  },
  {
   "cell_type": "markdown",
   "id": "b899adef",
   "metadata": {},
   "source": [
    "## Kontrollstrukturen\n",
    "\n",
    "Letzte Woche haben wir folgendes Programm geschrieben.\n",
    "Es gibt aus, ob die Zahl `n` gerade oer ungerade ist.\n",
    "Hier bezeichnet `%` den Modulo-Operator (Rest aus Division)."
   ]
  },
  {
   "cell_type": "code",
   "execution_count": null,
   "id": "d21574a6",
   "metadata": {},
   "outputs": [],
   "source": [
    "n = 3\n",
    "\n",
    "if n % 2 == 1:\n",
    "  print(n, \"ist gerade\")\n",
    "else:\n",
    "  print(n, \"ist ungerade\")"
   ]
  },
  {
   "cell_type": "markdown",
   "id": "f7941bbf",
   "metadata": {},
   "source": [
    ":::{admonition} Aufgabe\n",
    "Ergänzen Sie folgenden Python Code, so dass er die Binärdarstellung der natürlichen Zahl `n` ausgibt.\n",
    ":::"
   ]
  },
  {
   "cell_type": "code",
   "execution_count": null,
   "id": "7cf81a3a",
   "metadata": {},
   "outputs": [],
   "source": [
    "# Zum Beispiel 6 --> 110 oder 26 --> 11010\n",
    "n = 6\n",
    "\n",
    "# Ihr Code kommt hier hin\n",
    "# ...\n",
    "# ..."
   ]
  },
  {
   "cell_type": "markdown",
   "id": "b480f872",
   "metadata": {},
   "source": [
    ":::{admonition} Aufgabe\n",
    "Ergänzen Sie folgenden Python Code, so dass er die Quersumme der natürlichen Zahl `n` ausgibt.\n",
    ":::"
   ]
  },
  {
   "cell_type": "code",
   "execution_count": null,
   "id": "a1271f5b",
   "metadata": {},
   "outputs": [],
   "source": [
    "n = 43602299 # Quersumme ist 35\n",
    "\n",
    "# Ihr Code kommt hier hin\n",
    "# ...\n",
    "# ..."
   ]
  }
 ],
 "metadata": {
  "jupytext": {
   "cell_metadata_filter": "-all",
   "formats": "md:myst",
   "text_representation": {
    "extension": ".md",
    "format_name": "myst",
    "format_version": 0.13,
    "jupytext_version": "1.11.5"
   }
  },
  "kernelspec": {
   "display_name": "Python 3",
   "language": "python",
   "name": "python3"
  },
  "source_map": [
   14,
   35,
   46,
   74,
   84,
   119,
   126,
   129,
   133,
   141,
   148,
   153,
   160,
   165
  ]
 },
 "nbformat": 4,
 "nbformat_minor": 5
}