{
 "cells": [
  {
   "cell_type": "markdown",
   "id": "4a2f3357",
   "metadata": {},
   "source": [
    "# Woche 2: Grundlagen der Numerik mit Python\n",
    "\n",
    "Lernziele:\n",
    "\n",
    "1. Ich kann `if` / `else` Blöcke nutzen.\n",
    "2. Ich kann `for` und `while` Schleifen implementieren.\n",
    "\n",
    "## Endliche Arithmetik\n",
    "\n",
    "Die Ableitung einer stetig differenzierbaren Funktion $$f$$ an der Stelle $x_0$ ist definiert als\n",
    "\n",
    "$$ f^\\prime(x0)= \\lim\\limits_{h\\rightarrow 0} \\frac{f(x_0+h)-f(x_0)}{h} $$.\n",
    "\n",
    "Für $$ f(x)=\\tfrac{1}{2}x^2 $$ erhalten wir zum Beispiel $f^\\prime(x)=x$.\n",
    "Folgender Code appriximiert also für `h` nahe bei Null die Ableitung an der Stelle `x0`."
   ]
  },
  {
   "cell_type": "code",
   "execution_count": null,
   "id": "b00cc5f1",
   "metadata": {},
   "outputs": [],
   "source": [
    "import numpy as np\n",
    "from matplotlib import pyplot as plt\n",
    "\n",
    "def derivative(g, x0, h):\n",
    "    return (g(x0 + h) - g(x0)) / h\n",
    "\n",
    "def f(x):\n",
    "    return 0.5 * x**2\n",
    "\n",
    "h_values = np.array([2**(-k) for k in range(10, 30)])\n",
    "df_values = derivative(f, 1.0, h_values)\n",
    "error = np.abs(1.0 - df_values)\n",
    "\n",
    "print(error)"
   ]
  },
  {
   "cell_type": "markdown",
   "id": "0feab4b8",
   "metadata": {},
   "source": [
    "Archmides entwickelte einen Algorithmus zur Berechnung der Kreiszahl $$\\pi$$.\n",
    "Dabei berechnet er die Fläche des Einheitskreises (Radius 1), welche genau $$\\pi$$ entspricht.\n",
    "Die Fläche wird durch\n",
    "\n",
    "```{image} ./images/archimedes.jpg\n",
    ":alt: archimedes\n",
    ":class: fig\n",
    ":width: 400px\n",
    ":align: center\n",
    "```\n",
    "\n",
    "## Kontrollstrukturen\n",
    "\n",
    "Letzte Woche haben wir folgendes Programm geschrieben.\n",
    "Es gibt aus, ob die Zahl `n` gerade oer ungerade ist.\n",
    "Hier bezeichnet `%` den Modulo-Operator (Rest aus Division)."
   ]
  },
  {
   "cell_type": "code",
   "execution_count": null,
   "id": "6f204add",
   "metadata": {},
   "outputs": [],
   "source": [
    "n = 3\n",
    "\n",
    "if n % 2 == 1:\n",
    "  print(n, \"ist gerade\")\n",
    "else:\n",
    "  print(n, \"ist ungerade\")"
   ]
  },
  {
   "cell_type": "markdown",
   "id": "dd14f0ce",
   "metadata": {},
   "source": [
    ":::{admonition} Aufgabe\n",
    "Ergänzen Sie folgenden Python Code, so dass er die Binärdarstellung der natürlichen Zahl `n` ausgiebt.\n",
    ":::"
   ]
  },
  {
   "cell_type": "code",
   "execution_count": null,
   "id": "25550679",
   "metadata": {},
   "outputs": [],
   "source": [
    "# Zum Beispiel 6 --> 110 oder 26 --> 11010\n",
    "n = 6\n",
    "\n",
    "while n > 0:\n",
    "  if n % 2 == 0:\n",
    "    print(0)\n",
    "  else:\n",
    "    print(1)\n",
    "  n = n // 2"
   ]
  }
 ],
 "metadata": {
  "jupytext": {
   "cell_metadata_filter": "-all",
   "formats": "md:myst",
   "text_representation": {
    "extension": ".md",
    "format_name": "myst",
    "format_version": 0.13,
    "jupytext_version": "1.11.5"
   }
  },
  "kernelspec": {
   "display_name": "Python 3",
   "language": "python",
   "name": "python3"
  },
  "source_map": [
   14,
   31,
   46,
   64,
   71,
   76
  ]
 },
 "nbformat": 4,
 "nbformat_minor": 5
}