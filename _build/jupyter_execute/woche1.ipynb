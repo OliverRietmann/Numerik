{
 "cells": [
  {
   "cell_type": "markdown",
   "id": "92deb4fd",
   "metadata": {},
   "source": [
    "# Woche 1: Einführung in Python\n",
    "\n",
    "Lernziele:\n",
    "\n",
    "1. Ich kann mit der Klasse `numpy.array` Vektoren und Matrizen erstellen diese manipulieren.\n",
    "2. Ich weiss, was die Operatoren `+,-,*,/,**` mit einem `numpy.array` machen.\n",
    "3. Ich kenne den Unterschied zwischen `numpy.sqrt` und `math.sqrt` (analog für weitere Funktionen).\n",
    "4. Ich kann mit dem Package `matplotlib` die Funktion `numpy.sin` plotten.\n",
    "5. Ich kann in Python eigene Funktionen definieren und diese ausführen.\n",
    "\n",
    "## Variablen, Zeichenketten (Strings), Listen und Schleifen\n",
    "\n",
    "Anführungszeichen `\"...\"` definieren eine Zeichenkette (engl. string)."
   ]
  },
  {
   "cell_type": "code",
   "execution_count": null,
   "id": "4a1535e9",
   "metadata": {},
   "outputs": [],
   "source": [
    "x = 3\n",
    "var = \"I am a string.\"\n",
    "print(x, \"x\", var)"
   ]
  },
  {
   "cell_type": "markdown",
   "id": "cce4e9a4",
   "metadata": {},
   "source": [
    "Eckige Klammern `[...]` definieren eine Liste.\n",
    "Auf die einzelnen Elemente einer Liste greifen wir mit `[i]` zu, wobei `i` eine ganze Zahl bezeichnet."
   ]
  },
  {
   "cell_type": "code",
   "execution_count": null,
   "id": "daa9e3f1",
   "metadata": {},
   "outputs": [],
   "source": [
    "l = [1, 2, 3]\n",
    "print(l[1])"
   ]
  },
  {
   "cell_type": "markdown",
   "id": "2e91b9b1",
   "metadata": {},
   "source": [
    "Mit einer `for` Schleife (engl. loop) können wir über Listen iterieren.\n",
    "Der eingerückte Code wir dabei wiederholt."
   ]
  },
  {
   "cell_type": "code",
   "execution_count": null,
   "id": "71bbac98",
   "metadata": {},
   "outputs": [],
   "source": [
    "l = [1, \"two\", 3]\n",
    "print(l)\n",
    "for n in l:\n",
    "  print(n)"
   ]
  },
  {
   "cell_type": "markdown",
   "id": "349c07e8",
   "metadata": {},
   "source": [
    ":::{admonition} Aufgabe\n",
    "Ergänzen Sie folgenden Code mit einer `if` Anweisung, so dass er angibt, ob die Variable `n` gerade oder ungerade ist.\n",
    ":::"
   ]
  },
  {
   "cell_type": "code",
   "execution_count": null,
   "id": "00ab0b43",
   "metadata": {},
   "outputs": [],
   "source": [
    "n = 3\n",
    "# Ihr Code kommt hier hin:\n",
    "# ...\n",
    "# ..."
   ]
  },
  {
   "cell_type": "markdown",
   "id": "e87e6de0",
   "metadata": {},
   "source": [
    "## Python als Taschenrechner\n",
    "\n",
    "Was ist der Output der folgenden Codes?"
   ]
  },
  {
   "cell_type": "code",
   "execution_count": null,
   "id": "10d1b7cd",
   "metadata": {},
   "outputs": [],
   "source": [
    "print(2 + 3)\n",
    "print(2 * 3)\n",
    "print(2 / 3)\n",
    "print(2**3)\n",
    "print(2^3)"
   ]
  },
  {
   "cell_type": "code",
   "execution_count": null,
   "id": "d1744b23",
   "metadata": {},
   "outputs": [],
   "source": [
    "import math\n",
    "\n",
    "print(math.sqrt(45))\n",
    "print(math.pow(23, 1 / 5))"
   ]
  },
  {
   "cell_type": "markdown",
   "id": "5eb8cd53",
   "metadata": {},
   "source": [
    "## Funktionen"
   ]
  },
  {
   "cell_type": "code",
   "execution_count": null,
   "id": "34bec714",
   "metadata": {},
   "outputs": [],
   "source": [
    "l1 = [1, 2, 3]\n",
    "l2 = [4, 5, 6]\n",
    "\n",
    "print(l1 + l2)\n",
    "\n",
    "def sum_lists(v, w):\n",
    "  assert len(v) == len(w)\n",
    "  y = []\n",
    "  for i in range(len(v)):\n",
    "    y += [v[i] + w[i]]\n",
    "  return y\n",
    "\n",
    "print(sum_lists(l1, l2))"
   ]
  },
  {
   "cell_type": "code",
   "execution_count": null,
   "id": "9e9e61d1",
   "metadata": {},
   "outputs": [],
   "source": [
    "l = [1, 2, 3]\n",
    "\n",
    "print(3 * l)\n",
    "\n",
    "def skalar_mult(s, v):\n",
    "  w = []\n",
    "  return w\n",
    "\n",
    "print(skalar_mult(3, l))"
   ]
  },
  {
   "cell_type": "markdown",
   "id": "02fb252b",
   "metadata": {},
   "source": [
    "## Vektoren und Matrizen"
   ]
  },
  {
   "cell_type": "code",
   "execution_count": null,
   "id": "242de1f2",
   "metadata": {},
   "outputs": [],
   "source": [
    "import numpy as np\n",
    "\n",
    "l = [1, 2, 3]\n",
    "x = np.array(l)\n",
    "print(x)\n",
    "\n",
    "y = np.array([4, 5, 6])\n",
    "print(y)\n",
    "\n",
    "print(x + y)\n",
    "print(3 * x)"
   ]
  }
 ],
 "metadata": {
  "jupytext": {
   "cell_metadata_filter": "-all",
   "formats": "md:myst",
   "text_representation": {
    "extension": ".md",
    "format_name": "myst",
    "format_version": 0.13,
    "jupytext_version": "1.11.5"
   }
  },
  "kernelspec": {
   "display_name": "Python 3",
   "language": "python",
   "name": "python3"
  },
  "source_map": [
   14,
   29,
   33,
   37,
   40,
   44,
   49,
   54,
   59,
   66,
   74,
   79,
   83,
   99,
   109,
   113
  ]
 },
 "nbformat": 4,
 "nbformat_minor": 5
}