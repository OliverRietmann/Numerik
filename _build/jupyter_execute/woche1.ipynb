{
 "cells": [
  {
   "cell_type": "markdown",
   "id": "62074916",
   "metadata": {},
   "source": [
    "# Woche 1: Einführung in Python\n",
    "\n",
    "Lernziele:\n",
    "\n",
    "1. Ich kann mit der Klasse `numpy.array` Vektoren und Matrizen erstellen diese manipulieren.\n",
    "2. Ich weiss, was die Operatoren `+,-,*,/,**` mit einem `numpy.array` machen.\n",
    "3. Ich kenne den Unterschied zwischen `numpy.sqrt` und `math.sqrt` (analog für weitere Funktionen).\n",
    "4. Ich kann mit dem Package `matplotlib` die Funktion `numpy.sin` plotten.\n",
    "5. Ich kann in Python eigene Funktionen definieren und diese ausführen.\n",
    "\n",
    "## Variablen, Zeichenketten (Strings), Listen und Schleifen\n",
    "\n",
    "Anführungszeichen `\"...\"` definieren eine Zeichenkette (engl. string)."
   ]
  },
  {
   "cell_type": "code",
   "execution_count": null,
   "id": "035f57e5",
   "metadata": {},
   "outputs": [],
   "source": [
    "x = 3\n",
    "var = \"I am a string.\"\n",
    "print(x, \"x\", var)"
   ]
  },
  {
   "cell_type": "markdown",
   "id": "7b7758d4",
   "metadata": {},
   "source": [
    "Eckige Klammern `[...]` definieren eine Liste.\n",
    "Auf die einzelnen Elemente einer Liste greifen wir mit `[i]` zu, wobei `i` eine ganze Zahl bezeichnet."
   ]
  },
  {
   "cell_type": "code",
   "execution_count": null,
   "id": "850e883a",
   "metadata": {},
   "outputs": [],
   "source": [
    "l = [1, 2, 3]\n",
    "print(l[1])"
   ]
  },
  {
   "cell_type": "markdown",
   "id": "0d7e6ce4",
   "metadata": {},
   "source": [
    "Mit einer `for` Schleife (engl. loop) können wir über Listen iterieren.\n",
    "Der eingerückte Code wir dabei wiederholt."
   ]
  },
  {
   "cell_type": "code",
   "execution_count": null,
   "id": "c3158c79",
   "metadata": {},
   "outputs": [],
   "source": [
    "l = [1, \"two\", 3]\n",
    "print(l)\n",
    "for n in l:\n",
    "  print(n)"
   ]
  },
  {
   "cell_type": "markdown",
   "id": "f1186121",
   "metadata": {},
   "source": [
    ":::{admonition} Aufgabe\n",
    "Ergänzen Sie folgenden Code mit einer `if` Anweisung, so dass er angibt, ob die Variable `n` gerade oder ungerade ist.\n",
    ":::"
   ]
  },
  {
   "cell_type": "code",
   "execution_count": null,
   "id": "8d38368b",
   "metadata": {},
   "outputs": [],
   "source": [
    "n = 3\n",
    "# Ihr Code kommt hier hin:\n",
    "# ...\n",
    "# ..."
   ]
  },
  {
   "cell_type": "markdown",
   "id": "2d50ef18",
   "metadata": {},
   "source": [
    "## Python als Taschenrechner\n",
    "\n",
    ":::{admonition} Aufgabe\n",
    "Was ist der Output des folgenden Codes?\n",
    ":::"
   ]
  },
  {
   "cell_type": "code",
   "execution_count": null,
   "id": "0334752e",
   "metadata": {},
   "outputs": [],
   "source": [
    "print(2 + 3)\n",
    "print(2 * 3)\n",
    "print(2 / 3)\n",
    "print(2**3)\n",
    "print(2^3)"
   ]
  },
  {
   "cell_type": "markdown",
   "id": "fd693bc3",
   "metadata": {},
   "source": [
    "Das Modul (engl. module) `math` enthält diverse Funktionen aus der Mathematik."
   ]
  },
  {
   "cell_type": "code",
   "execution_count": null,
   "id": "5698c5c5",
   "metadata": {},
   "outputs": [],
   "source": [
    "import math\n",
    "\n",
    "print(math.sqrt(45))\n",
    "print(math.pow(23, 1 / 5))"
   ]
  },
  {
   "cell_type": "markdown",
   "id": "3b4951c6",
   "metadata": {},
   "source": [
    "## Funktionen\n",
    "\n",
    "Wir können auch unsere eigenen Funktionen definieren."
   ]
  },
  {
   "cell_type": "code",
   "execution_count": null,
   "id": "770dc03a",
   "metadata": {},
   "outputs": [],
   "source": [
    "def log17(x):\n",
    "  y = math.log(x) / math.log(17)\n",
    "  return y"
   ]
  },
  {
   "cell_type": "markdown",
   "id": "970020f3",
   "metadata": {},
   "source": [
    ":::{admonition} Aufgabe\n",
    "Welchen Wert haben `log17(17)` und `log17(17**2)`?\n",
    ":::\n",
    "\n",
    "Eine Funktion kann auch mehrere Argumente haben.\n",
    ":::{admonition} Aufgabe\n",
    "Folgende Funktion soll zwei gleich lange Listen elementweise addieren. Korrigieren Sie die Funktion.\n",
    ":::"
   ]
  },
  {
   "cell_type": "code",
   "execution_count": null,
   "id": "6f844d71",
   "metadata": {},
   "outputs": [],
   "source": [
    "l1 = [1, 2, 3]\n",
    "l2 = [4, 5, 6]\n",
    "\n",
    "def sum_lists(v, w):\n",
    "  return v + w\n",
    "\n",
    "print(sum_lists(l1, l2))"
   ]
  },
  {
   "cell_type": "markdown",
   "id": "21593792",
   "metadata": {},
   "source": [
    "Eine Funktion kann auch mehrere Argumente haben.\n",
    ":::{admonition} Aufgabe\n",
    "Folgende Funktion soll eine Skalar-Vektor Multiplikation machen. Korrigieren Sie die Funktion.\n",
    ":::"
   ]
  },
  {
   "cell_type": "code",
   "execution_count": null,
   "id": "db12e91d",
   "metadata": {},
   "outputs": [],
   "source": [
    "l = [1, 2, 3]\n",
    "\n",
    "def skalar_mult(s, v):\n",
    "  return s * v\n",
    "\n",
    "print(skalar_mult(3, l))"
   ]
  },
  {
   "cell_type": "markdown",
   "id": "d08f13f7",
   "metadata": {},
   "source": [
    "## Vektoren und Matrizen\n",
    "\n",
    "Das Paket (engl. package) `numpy` enthält die wichtigsten Funktionen aus der linearen Algebra.\n",
    "Es kann Listen in `numpy.arrays` umwandeln.\n",
    "Diese verhalten sich wie Vektoren und Matrizen."
   ]
  },
  {
   "cell_type": "code",
   "execution_count": null,
   "id": "0160d067",
   "metadata": {},
   "outputs": [],
   "source": [
    "import numpy as np\n",
    "\n",
    "l = [1, 2, 3]\n",
    "x = np.array(l)\n",
    "y = np.array([4, 5, 6])\n",
    "\n",
    "print(x + y)\n",
    "print(3 * x)"
   ]
  },
  {
   "cell_type": "markdown",
   "id": "7f9cd7ca",
   "metadata": {},
   "source": [
    "Im Gegensatz zu `math` agieren die `numpy` Funktionen elementweise."
   ]
  },
  {
   "cell_type": "code",
   "execution_count": null,
   "id": "de6d8734",
   "metadata": {},
   "outputs": [],
   "source": [
    "import numpy as np\n",
    "\n",
    "x = np.array([1, 2, 3])\n",
    "print(np.sqrt(x))"
   ]
  },
  {
   "cell_type": "markdown",
   "id": "d26b20b9",
   "metadata": {},
   "source": [
    "Das Skalarprodukt zweier Vektoren berechnet man mit `numpy.dot`."
   ]
  },
  {
   "cell_type": "code",
   "execution_count": null,
   "id": "e9586830",
   "metadata": {},
   "outputs": [],
   "source": [
    "import numpy as np\n",
    "\n",
    "v = np.array([1, 2, 3])\n",
    "w = np.array([0, 0, 1])\n",
    "print(np.dot(v, w))"
   ]
  },
  {
   "cell_type": "markdown",
   "id": "f91773fc",
   "metadata": {},
   "source": [
    "Matrizen entstehen aus Listen von Listen.\n",
    "In diesem Fall berechnet `numpy.dot` das Matrix-Matrix Produkt."
   ]
  },
  {
   "cell_type": "code",
   "execution_count": null,
   "id": "77e862df",
   "metadata": {},
   "outputs": [],
   "source": [
    "import numpy as np\n",
    "\n",
    "A = np.array([[16,  3],\n",
    "              [ 5, 10],\n",
    "              [ 9,  6]])\n",
    "\n",
    "B = np.array([[1, 2, 3],\n",
    "              [4, 6, 6]])\n",
    "\n",
    "print(np.dot(A, B))\n",
    "# Gleich wie A.dot(B) und A @ B\n",
    "# Probieren Sie mal np.shape(A)"
   ]
  },
  {
   "cell_type": "markdown",
   "id": "db7ccfcc",
   "metadata": {},
   "source": [
    "Es gibt effiziente Funktionen um spezielle Matrizen zu erstellen.\n",
    "| Funktion | Beschreibung           |\n",
    "|------------------|:---------------|\n",
    "| `eye`            | Einheitsmatrix |\n",
    "| `zeros`          | Nullmatrix     |\n",
    "| `ones`           | Alles Einsen   |\n",
    "| `diag`           | Diagonalmatrix |\n",
    "| `random.random`  | Alles Einsen   |"
   ]
  },
  {
   "cell_type": "code",
   "execution_count": null,
   "id": "a270a73a",
   "metadata": {},
   "outputs": [],
   "source": [
    "import numpy as np\n",
    "\n",
    "R = np.random.random((2,3))\n",
    "print(R)"
   ]
  }
 ],
 "metadata": {
  "jupytext": {
   "cell_metadata_filter": "-all",
   "formats": "md:myst",
   "text_representation": {
    "extension": ".md",
    "format_name": "myst",
    "format_version": 0.13,
    "jupytext_version": "1.11.5"
   }
  },
  "kernelspec": {
   "display_name": "Python 3",
   "language": "python",
   "name": "python3"
  },
  "source_map": [
   14,
   29,
   33,
   37,
   40,
   44,
   49,
   54,
   59,
   67,
   73,
   76,
   81,
   86,
   90,
   99,
   107,
   113,
   120,
   127,
   136,
   139,
   144,
   147,
   153,
   157,
   170,
   180
  ]
 },
 "nbformat": 4,
 "nbformat_minor": 5
}