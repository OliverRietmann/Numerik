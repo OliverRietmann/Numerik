{
 "cells": [
  {
   "cell_type": "markdown",
   "id": "ba1694f9",
   "metadata": {},
   "source": [
    "# Woche 1: Einführung in Python\n",
    "\n",
    "Lernziele:\n",
    "\n",
    "1. Ich kann mit der Klasse `numpy.array` Vektoren und Matrizen erstellen diese manipulieren.\n",
    "2. Ich weiss, was die Operatoren `+,-,*,/,**` mit einem `numpy.array` machen.\n",
    "3. Ich kenne den Unterschied zwischen `numpy.sqrt` und `math.sqrt` (analog für weitere Funktionen).\n",
    "4. Ich kann mit dem Package `matplotlib` die Funktion `numpy.sin` plotten.\n",
    "5. Ich kann in Python eigene Funktionen definieren und diese ausführen.\n",
    "\n",
    "## Variablen, Zeichenketten (Strings), Listen und Schleifen\n",
    "\n",
    "Anführungszeichen `\"...\"` definieren eine Zeichenkette (engl. string)."
   ]
  },
  {
   "cell_type": "code",
   "execution_count": null,
   "id": "77cd2727",
   "metadata": {},
   "outputs": [],
   "source": [
    "x = 3\n",
    "var = \"I am a string.\"\n",
    "print(x, \"x\", var)"
   ]
  },
  {
   "cell_type": "markdown",
   "id": "ade42466",
   "metadata": {},
   "source": [
    "Eckige Klammern `[...]` definieren eine Liste.\n",
    "Auf die einzelnen Elemente einer Liste greifen wir mit `[i]` zu, wobei `i` eine ganze Zahl bezeichnet."
   ]
  },
  {
   "cell_type": "code",
   "execution_count": null,
   "id": "046d4552",
   "metadata": {},
   "outputs": [],
   "source": [
    "l = [1, 2, 3]\n",
    "print(l[1])"
   ]
  },
  {
   "cell_type": "markdown",
   "id": "fbb93aa6",
   "metadata": {},
   "source": [
    "Mit einer `for` Schleife (engl. loop) können wir über Listen iterieren.\n",
    "Der eingerückte Code wir dabei wiederholt."
   ]
  },
  {
   "cell_type": "code",
   "execution_count": null,
   "id": "3e79130a",
   "metadata": {},
   "outputs": [],
   "source": [
    "l = [1, \"two\", 3]\n",
    "print(l)\n",
    "for n in l:\n",
    "  print(n)"
   ]
  },
  {
   "cell_type": "markdown",
   "id": "d6a525b0",
   "metadata": {},
   "source": [
    ":::{admonition} Aufgabe\n",
    "Ergänzen Sie folgenden Code mit einer `if` Anweisung, so dass er angibt, ob die Variable `n` gerade oder ungerade ist.\n",
    ":::"
   ]
  },
  {
   "cell_type": "code",
   "execution_count": null,
   "id": "62b6e5b6",
   "metadata": {},
   "outputs": [],
   "source": [
    "n = 3\n",
    "# Ihr Code kommt hier hin:\n",
    "# ...\n",
    "# ..."
   ]
  },
  {
   "cell_type": "markdown",
   "id": "287737fa",
   "metadata": {},
   "source": [
    "## Python als Taschenrechner\n",
    "\n",
    ":::{admonition} Aufgabe\n",
    "Was ist der Output des folgenden Codes?\n",
    ":::"
   ]
  },
  {
   "cell_type": "code",
   "execution_count": null,
   "id": "8def0dc2",
   "metadata": {},
   "outputs": [],
   "source": [
    "print(2 + 3)\n",
    "print(2 * 3)\n",
    "print(2 / 3)\n",
    "print(2**3)\n",
    "print(2^3)"
   ]
  },
  {
   "cell_type": "markdown",
   "id": "3e3e1ed9",
   "metadata": {},
   "source": [
    "Das Modul (engl. module) `math` enthält diverse Funktionen aus der Mathematik."
   ]
  },
  {
   "cell_type": "code",
   "execution_count": null,
   "id": "6141579e",
   "metadata": {},
   "outputs": [],
   "source": [
    "import math\n",
    "\n",
    "print(math.sqrt(45))\n",
    "print(math.pow(23, 1 / 5))"
   ]
  },
  {
   "cell_type": "markdown",
   "id": "a879c984",
   "metadata": {},
   "source": [
    "## Funktionen\n",
    "\n",
    "Wir können auch unsere eigenen Funktionen definieren."
   ]
  },
  {
   "cell_type": "code",
   "execution_count": null,
   "id": "4276ac3c",
   "metadata": {},
   "outputs": [],
   "source": [
    "def log17(x):\n",
    "  y = math.log(x) / math.log(17)\n",
    "  return y"
   ]
  },
  {
   "cell_type": "markdown",
   "id": "412d4263",
   "metadata": {},
   "source": [
    ":::{admonition} Aufgabe\n",
    "Welchen Wert haben `log17(17)` und `log17(17**2)`?\n",
    ":::\n",
    "\n",
    "Eine Funktion kann auch mehrere Argumente haben.\n",
    ":::{admonition} Aufgabe\n",
    "Folgende Funktion soll zwei gleich lange Listen elementweise addieren. Korrigieren Sie die Funktion.\n",
    ":::"
   ]
  },
  {
   "cell_type": "code",
   "execution_count": null,
   "id": "cc450417",
   "metadata": {},
   "outputs": [],
   "source": [
    "l1 = [1, 2, 3]\n",
    "l2 = [4, 5, 6]\n",
    "\n",
    "def sum_lists(v, w):\n",
    "  return v + w\n",
    "\n",
    "print(sum_lists(l1, l2))"
   ]
  },
  {
   "cell_type": "markdown",
   "id": "e77f1d17",
   "metadata": {},
   "source": [
    "Eine Funktion kann auch mehrere Argumente haben.\n",
    ":::{admonition} Aufgabe\n",
    "Folgende Funktion soll eine Skalar-Vektor Multiplikation machen. Korrigieren Sie die Funktion.\n",
    ":::"
   ]
  },
  {
   "cell_type": "code",
   "execution_count": null,
   "id": "f9ad5421",
   "metadata": {},
   "outputs": [],
   "source": [
    "l = [1, 2, 3]\n",
    "\n",
    "def skalar_mult(s, v):\n",
    "  return s * v\n",
    "\n",
    "print(skalar_mult(3, l))"
   ]
  },
  {
   "cell_type": "markdown",
   "id": "91fc45cc",
   "metadata": {},
   "source": [
    "## Vektoren und Matrizen\n",
    "\n",
    "Das Paket (engl. package) `numpy` enthält die wichtigsten Funktionen aus der linearen Algebra.\n",
    "Es kann Listen in `numpy.arrays` umwandeln.\n",
    "Diese verhalten sich wie Vektoren und Matrizen."
   ]
  },
  {
   "cell_type": "code",
   "execution_count": null,
   "id": "0e9746c7",
   "metadata": {},
   "outputs": [],
   "source": [
    "import numpy as np\n",
    "\n",
    "l = [1, 2, 3]\n",
    "x = np.array(l)\n",
    "y = np.array([4, 5, 6])\n",
    "\n",
    "print(x + y)\n",
    "print(3 * x)"
   ]
  },
  {
   "cell_type": "markdown",
   "id": "b60a7b76",
   "metadata": {},
   "source": [
    "Im Gegensatz zu `math` agieren die `numpy` Funktionen elementweise."
   ]
  },
  {
   "cell_type": "code",
   "execution_count": null,
   "id": "63ee8c8a",
   "metadata": {},
   "outputs": [],
   "source": [
    "import numpy as np\n",
    "\n",
    "x = np.array([1, 2, 3])\n",
    "print(np.sqrt(x))"
   ]
  },
  {
   "cell_type": "markdown",
   "id": "a331367b",
   "metadata": {},
   "source": [
    "Das Skalarprodukt zweier Vektoren berechnet man mit `numpy.dot`."
   ]
  },
  {
   "cell_type": "code",
   "execution_count": null,
   "id": "50d3a001",
   "metadata": {},
   "outputs": [],
   "source": [
    "import numpy as np\n",
    "\n",
    "v = np.array([1, 2, 3])\n",
    "w = np.array([0, 0, 1])\n",
    "print(np.dot(v, w))"
   ]
  },
  {
   "cell_type": "markdown",
   "id": "fd7fffa8",
   "metadata": {},
   "source": [
    "Matrizen entstehen aus Listen von Listen.\n",
    "In diesem Fall berechnet `numpy.dot` das Matrix-Matrix Produkt."
   ]
  },
  {
   "cell_type": "code",
   "execution_count": null,
   "id": "e8dc665d",
   "metadata": {},
   "outputs": [],
   "source": [
    "import numpy as np\n",
    "\n",
    "A = np.array([[16,  3],\n",
    "              [ 5, 10],\n",
    "              [ 9,  6]])\n",
    "\n",
    "B = np.array([[1, 2, 3],\n",
    "              [4, 6, 6]])\n",
    "\n",
    "print(np.dot(A, B))\n",
    "# Gleich wie A.dot(B) und A @ B\n",
    "# Probieren Sie mal np.shape(A)"
   ]
  },
  {
   "cell_type": "markdown",
   "id": "5c9b0194",
   "metadata": {},
   "source": [
    "Es gibt effiziente Funktionen um spezielle Matrizen zu erstellen.\n",
    "| Funktion         | Beschreibung   |\n",
    "|------------------|:---------------|\n",
    "| `eye`            | Einheitsmatrix |\n",
    "| `zeros`          | Nullmatrix     |\n",
    "| `ones`           | Alles Einsen   |\n",
    "| `diag`           | Diagonalmatrix |\n",
    "| `random.random`  | Alles Einsen   |"
   ]
  },
  {
   "cell_type": "code",
   "execution_count": null,
   "id": "0b349f88",
   "metadata": {},
   "outputs": [],
   "source": [
    "import numpy as np\n",
    "\n",
    "R = np.random.random((2,3))\n",
    "print(R)"
   ]
  },
  {
   "cell_type": "markdown",
   "id": "dcea31a0",
   "metadata": {},
   "source": [
    "Mit `[...]` kann man auf die Einträge von Matrizen und Vektoren zugreifen."
   ]
  },
  {
   "cell_type": "code",
   "execution_count": null,
   "id": "91376a06",
   "metadata": {},
   "outputs": [],
   "source": [
    "import numpy as np\n",
    "\n",
    "v = np.array([1, 2, 3])\n",
    "print(v[1])\n",
    "\n",
    "A = np.array([[16,  3],\n",
    "              [ 5, 10],\n",
    "              [ 9,  6]])\n",
    "print(A[1, 2])"
   ]
  },
  {
   "cell_type": "markdown",
   "id": "42b74adf",
   "metadata": {},
   "source": [
    "Das `numpy.array` übernimmt den Datentyp der Zahlen in der Liste im Argument.\n",
    ":::{admonition} Aufgabe\n",
    "Was ist der Output des folgenden Codes? Erklären Sie.\n",
    ":::"
   ]
  },
  {
   "cell_type": "code",
   "execution_count": null,
   "id": "bbc4a9a9",
   "metadata": {},
   "outputs": [],
   "source": [
    "import numpy as np\n",
    "\n",
    "x = np.array([1])\n",
    "x[0] = x[0] / 2\n",
    "print(x[0])"
   ]
  },
  {
   "cell_type": "markdown",
   "id": "bf1c5e27",
   "metadata": {},
   "source": [
    ":::{admonition} Aufgabe\n",
    "1. Berechnen Sie den Sinus von 30 Grad in Python.\n",
    "2. Überlegen sie sich Varianten zur Definition der Matrix\n",
    "\n",
    "$$\n",
    "\\begin{pmatrix}\n",
    "  0 & 1 & 1 & 1 & 1 \\\\\n",
    "  1 & 0 & 1 & 1 & 1 \\\\\n",
    "  1 & 1 & 0 & 1 & 1 \\\\\n",
    "  1 & 1 & 1 & 0 & 1 \\\\\n",
    "  1 & 1 & 1 & 1 & 0 \\\\\n",
    "\\end{pmatrix}.\n",
    "$$\n",
    ":::"
   ]
  },
  {
   "cell_type": "code",
   "execution_count": null,
   "id": "1d451ca1",
   "metadata": {},
   "outputs": [],
   "source": [
    "import numpy as np\n",
    "\n",
    "# Ihr Code kommt hier hin."
   ]
  }
 ],
 "metadata": {
  "jupytext": {
   "cell_metadata_filter": "-all",
   "formats": "md:myst",
   "text_representation": {
    "extension": ".md",
    "format_name": "myst",
    "format_version": 0.13,
    "jupytext_version": "1.11.5"
   }
  },
  "kernelspec": {
   "display_name": "Python 3",
   "language": "python",
   "name": "python3"
  },
  "source_map": [
   14,
   29,
   33,
   37,
   40,
   44,
   49,
   54,
   59,
   67,
   73,
   76,
   81,
   86,
   90,
   99,
   107,
   113,
   120,
   127,
   136,
   139,
   144,
   147,
   153,
   157,
   170,
   180,
   185,
   188,
   198,
   204,
   210,
   225
  ]
 },
 "nbformat": 4,
 "nbformat_minor": 5
}