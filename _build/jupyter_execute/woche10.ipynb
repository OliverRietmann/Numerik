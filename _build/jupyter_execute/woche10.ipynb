{
 "cells": [
  {
   "cell_type": "markdown",
   "id": "055c61eb",
   "metadata": {},
   "source": [
    "# Woche 10: Quadratur\n",
    "\n",
    "Lernziele:\n",
    "\n",
    "1. Ich kann zu gegeben Knoten und Gewichten die zugerhörige Quadraturregel implementieren.\n",
    "2. Ich kann mit `numpy.trapz(...)` eine zusammengesetzte Trapezregel anwenden.\n",
    "3. Ich kann `scipy.integrate.simpson(...)` eine zusammengesetzte Simpsonregel anwenden.\n",
    "4. Ich kann `scipy.integrate.quad(...)` eine gegebene Funktion numerisch integrieren.\n",
    "\n",
    "## Allgemeine Quadraturregel\n",
    "\n",
    "Zu gegebenen Knoten $x_0,\\ldots,x_n$ und Gewichten $w_0,\\ldots,w_n$ kann man die zugehörige Quadraturregel als Skalarprodukt von Vektoren schreiben\n",
    "\n",
    "$$\n",
    "f(x_0)\\cdot w_0+f(x_1)\\cdot w_1+\\ldots+f(x_n)\\cdot w_n=\n",
    "\\begin{pmatrix}\n",
    "    f(x_0) \\\\\n",
    "    f(x_1) \\\\\n",
    "    \\vdots \\\\\n",
    "    f(x_n)\n",
    "\\end{pmatrix}\n",
    "\\cdot\n",
    "\\begin{pmatrix}\n",
    "    w_0 \\\\\n",
    "    w_1 \\\\\n",
    "    \\vdots \\\\\n",
    "    w_n \\\\\n",
    "\\end{pmatrix}\n",
    "$$\n",
    "\n",
    "So kann man die Quadratur in Python implementieren."
   ]
  },
  {
   "cell_type": "code",
   "execution_count": null,
   "id": "c03cdea6",
   "metadata": {},
   "outputs": [],
   "source": [
    "import numpy as np\n",
    "\n",
    "a = 0\n",
    "b = np.pi\n",
    "\n",
    "# Gewichte der 3/8 Regel (siehe Handout der Vorlesung)\n",
    "w = (b - a) / 8.0 * np.array([1.0, 3.0, 3.0, 1.0])\n",
    "\n",
    "n = len(w) - 1\n",
    "x = np.linspace(a, b, n + 1)\n",
    "\n",
    "# Die Quadratur ist gerade folgendes Skalarprodukt:\n",
    "print(np.dot(np.sin(x), w))"
   ]
  },
  {
   "cell_type": "markdown",
   "id": "fdbf9e60",
   "metadata": {},
   "source": [
    "## Trapezregel\n",
    "\n",
    "Mit der aus $n$ Knoten zusammengesetzten Trapezregel\n",
    "\n",
    "$$\n",
    "\\frac{h}{2}\\cdot\\big(f(a)+2f(a+h)+\\ldots+2f(a+h(n-1))+f(b)\\big),\\quad\n",
    "h=\\frac{b-a}{n}\n",
    "$$\n",
    "\n",
    "auf dem Intervall $[a,b]$ approximieren wir das Integral\n",
    "\n",
    "$$\n",
    "\\int_0^\\pi\\sin(x)dx.\n",
    "$$\n",
    "\n",
    "In Python geht das mit der Funktion `numpy.trapz(...)`."
   ]
  },
  {
   "cell_type": "code",
   "execution_count": null,
   "id": "4140bdf0",
   "metadata": {},
   "outputs": [],
   "source": [
    "import numpy as np\n",
    "\n",
    "a = 0.0\n",
    "b = np.pi\n",
    "n = 100\n",
    "\n",
    "x = np.linspace(a, b, n + 1)\n",
    "y = np.sin(x)\n",
    "\n",
    "print(np.trapz(y, x))"
   ]
  },
  {
   "cell_type": "markdown",
   "id": "00b44226",
   "metadata": {},
   "source": [
    "Man beachte dass `numpy.trapz(...)` diskrete Werte (`numpy.array`) entgegennimmt.\n",
    "Falls man eine auswertbare Funktion integrieren will,\n",
    "muss man `scipy.integrate.quad(...)` verwenden."
   ]
  },
  {
   "cell_type": "code",
   "execution_count": null,
   "id": "aa69cf26",
   "metadata": {},
   "outputs": [],
   "source": [
    "import numpy as np\n",
    "import scipy as sp\n",
    "\n",
    "a = 0\n",
    "b = np.pi\n",
    "\n",
    "# np.sin wird direkt übergeben\n",
    "result = np.integrate.quad(np.sin, a, b)\n",
    "\n",
    "print(result.y)"
   ]
  },
  {
   "cell_type": "markdown",
   "id": "9c1750a6",
   "metadata": {},
   "source": [
    "## Zusammengesetzte Quadraturregel\n",
    "\n",
    "Wir können die Gewichte der zusammengesetzten Quadraturregeln wie folgt bauen."
   ]
  },
  {
   "cell_type": "code",
   "execution_count": null,
   "id": "470d02bf",
   "metadata": {},
   "outputs": [],
   "source": [
    "import numpy as np\n",
    "\n",
    "# Gewichte der Trapezregel auf [0, 1]\n",
    "w = 0.5 * np.array([1.0, 1.0])\n",
    "\n",
    "# Gewichte der Simpsonregel auf [0, 1]\n",
    "# w = 1.0 / 6.0 * np.array([1.0, 4.0, 1.0])\n",
    "\n",
    "def composite_rule(w, N):\n",
    "  m = len(w) - 1\n",
    "  n = N * (m + 1) - (N - 1)\n",
    "  v = np.zeros(n)\n",
    "  for i in range(N):\n",
    "    a = i * m\n",
    "    b = (i + 1) * m\n",
    "    v[a:b + 1] += w\n",
    "  return v\n",
    "\n",
    "v = composite_rule(w, 100)\n",
    "n = len(v)\n",
    "\n",
    "a = 0.0\n",
    "b = np.pi\n",
    "x = np.linspace(a, b, n)\n",
    "h = (b - a) / (n - 1)\n",
    "\n",
    "print(np.dot(np.sin(x), h * v))"
   ]
  }
 ],
 "metadata": {
  "jupytext": {
   "cell_metadata_filter": "-all",
   "formats": "md:myst",
   "text_representation": {
    "extension": ".md",
    "format_name": "myst",
    "format_version": 0.13,
    "jupytext_version": "1.11.5"
   }
  },
  "kernelspec": {
   "display_name": "Python 3",
   "language": "python",
   "name": "python3"
  },
  "source_map": [
   14,
   48,
   62,
   81,
   92,
   98,
   109,
   115
  ]
 },
 "nbformat": 4,
 "nbformat_minor": 5
}