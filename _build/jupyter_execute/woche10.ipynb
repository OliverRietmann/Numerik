{
 "cells": [
  {
   "cell_type": "markdown",
   "id": "81f85615",
   "metadata": {},
   "source": [
    "# Woche 10: Quadratur\n",
    "\n",
    "Lernziele:\n",
    "\n",
    "1. Ich kann zu gegeben Knoten und Gewichten die zugerhörige Quadraturregel implementieren.\n",
    "2. Ich kann mit `numpy.trapz(...)` eine zusammengesetzte Trapezregel anwenden.\n",
    "3. Ich kann `scipy.integrate.simpson(...)` eine zusammengesetzte Simpsonregel anwenden.\n",
    "4. Ich kann `scipy.integrate.quad(...)` eine gegebene Funktion numerisch integrieren.\n",
    "\n",
    "## Allgemeine Quadraturregel\n",
    "\n",
    "Zu gegebenen Knoten $x_0,\\ldots,x_n$ und Gewichten $w_0,\\ldots,w_n$ kann man die zugehörige Quadraturregel als Skalarprodukt von Vektoren schreiben\n",
    "\n",
    "$$\n",
    "f(x_0)w_0+f(x_1)w_1+\\ldots+f(x_n)w_n=\n",
    "\\begin{pmatrix}\n",
    "    f(x_0) \\\\\n",
    "    f(x_1) \\\\\n",
    "    \\vdots \\\\\n",
    "    f(x_n)\n",
    "\\end{pmatrix}\n",
    "\\cdot\n",
    "\\begin{pmatrix}\n",
    "    w_0 \\\\\n",
    "    w_1 \\\\\n",
    "    \\vdots \\\\\n",
    "    w_n \\\\\n",
    "\\end{pmatrix}\n",
    "$$\n",
    "\n",
    "So kann man die Quadratur in Python implementieren."
   ]
  },
  {
   "cell_type": "code",
   "execution_count": null,
   "id": "aa6aa0bc",
   "metadata": {},
   "outputs": [],
   "source": [
    "import numpy as np\n",
    "\n",
    "a = 0\n",
    "b = np.pi\n",
    "\n",
    "# Gewichte der 3/8 Regel (siehe Handout der Vorlesung)\n",
    "w = (b - a) / 8.0 * np.array([1.0, 3.0, 3.0, 1.0])\n",
    "\n",
    "n = len(w) - 1\n",
    "x = np.linspace(a, b, n + 1)\n",
    "\n",
    "# Die Quadratur ist gerade folgendes Skalarprodukt:\n",
    "print(np.dot(np.sin(x), w))"
   ]
  },
  {
   "cell_type": "markdown",
   "id": "9e325fd4",
   "metadata": {},
   "source": [
    "## Trapezregel\n",
    "\n",
    "Mit der aus $n$ Knoten zusammengesetzten Trapezregel\n",
    "\n",
    "$$\n",
    "\\frac{h}{2}\\cdot\\big(f(a)+2f(a+h)+\\ldots+2f(a+h(n-1))+f(b)\\big),\\quad\n",
    "h=\\frac{b-a}{n}\n",
    "$$\n",
    "\n",
    "auf dem Intervall $[a,b]$ approximieren wir das Integral\n",
    "\n",
    "$$\n",
    "\\int_0^\\pi\\sin(x)dx.\n",
    "$$\n",
    "\n",
    "In Python geht das mit der Funktion `numpy.trapz(...)`."
   ]
  },
  {
   "cell_type": "code",
   "execution_count": null,
   "id": "64e59628",
   "metadata": {},
   "outputs": [],
   "source": [
    "import numpy as np\n",
    "\n",
    "a = 0\n",
    "b = np.pi\n",
    "n = 100\n",
    "\n",
    "x = np.linspace(a, b, n + 1)\n",
    "y = np.sin(x)\n",
    "\n",
    "print(np.trapz(y, x))"
   ]
  }
 ],
 "metadata": {
  "jupytext": {
   "cell_metadata_filter": "-all",
   "formats": "md:myst",
   "text_representation": {
    "extension": ".md",
    "format_name": "myst",
    "format_version": 0.13,
    "jupytext_version": "1.11.5"
   }
  },
  "kernelspec": {
   "display_name": "Python 3",
   "language": "python",
   "name": "python3"
  },
  "source_map": [
   14,
   48,
   62,
   81
  ]
 },
 "nbformat": 4,
 "nbformat_minor": 5
}