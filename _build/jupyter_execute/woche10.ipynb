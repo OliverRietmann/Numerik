{
 "cells": [
  {
   "cell_type": "markdown",
   "id": "e9137838",
   "metadata": {},
   "source": [
    "# Woche 10: Quadratur\n",
    "\n",
    "Lernziele:\n",
    "\n",
    "1. Ich kann zu gegeben Knoten und Gewichten die zugerhörige Quadraturregel implementieren.\n",
    "2. Ich kann mit `numpy.trapz(...)` eine zusammengesetzte Trapezregel anwenden.\n",
    "3. Ich kann mit `scipy.integrate.simpson(...)` eine zusammengesetzte Simpsonregel anwenden.\n",
    "\n",
    "## Allgemeine Quadraturregel\n",
    "\n",
    "Zu gegebenen Knoten $x_0,\\ldots,x_n$ und Gewichten $w_0,\\ldots,w_n$ kann man die zugehörige Quadraturregel als Skalarprodukt von Vektoren schreiben\n",
    "\n",
    "$$\n",
    "f(x_0)\\cdot w_0+f(x_1)\\cdot w_1+\\ldots+f(x_n)\\cdot w_n=\n",
    "\\begin{pmatrix}\n",
    "    f(x_0) \\\\\n",
    "    f(x_1) \\\\\n",
    "    \\vdots \\\\\n",
    "    f(x_n)\n",
    "\\end{pmatrix}\n",
    "\\cdot\n",
    "\\begin{pmatrix}\n",
    "    w_0 \\\\\n",
    "    w_1 \\\\\n",
    "    \\vdots \\\\\n",
    "    w_n \\\\\n",
    "\\end{pmatrix}\n",
    "$$\n",
    "\n",
    "Als Beispiel approximieren wir das Integral\n",
    "\n",
    "$$\n",
    "\\int_0^3\\sin(x)dx\n",
    "$$\n",
    "\n",
    "mit den Gewichten der $3/8$ Regel aus der Vorlesung."
   ]
  },
  {
   "cell_type": "code",
   "execution_count": null,
   "id": "aaf80edb",
   "metadata": {},
   "outputs": [],
   "source": [
    "import numpy as np\n",
    "\n",
    "a = 0.0\n",
    "b = 3.0\n",
    "\n",
    "# Gewichte der 3/8 Regel (siehe Handout der Vorlesung)\n",
    "w = (b - a) / 8.0 * np.array([1.0, 3.0, 3.0, 1.0])\n",
    "\n",
    "n = len(w) - 1\n",
    "x = np.linspace(a, b, n + 1)\n",
    "\n",
    "# Die Quadratur ist gerade folgendes Skalarprodukt:\n",
    "print(np.dot(np.sin(x), w))"
   ]
  },
  {
   "cell_type": "markdown",
   "id": "697dcd4a",
   "metadata": {},
   "source": [
    "## Zusammengesetzte Trapezregel\n",
    "\n",
    "Wir approximieren das Integral\n",
    "\n",
    "$$\n",
    "\\int_0^3\\sin(x)dx.\n",
    "$$\n",
    "\n",
    "mit der aus $n=3$ Teilintervallen zusammengesetzten Trapezregel.\n",
    "Allgemein braucht die aus $n$ Teilintervallen zusammengesetzte Trapezregel genau $n+1$ Quadraturknoten.\n",
    "\n",
    "![trapez](images/trapez.png)\n",
    "\n",
    "In Python geht das mit der Funktion `numpy.trapz(...)`."
   ]
  },
  {
   "cell_type": "code",
   "execution_count": null,
   "id": "497f52c4",
   "metadata": {},
   "outputs": [],
   "source": [
    "import numpy as np\n",
    "\n",
    "a = 0.0\n",
    "b = 3.0\n",
    "n = 3\n",
    "\n",
    "x = np.linspace(a, b, n + 1, endpoint=True)\n",
    "y = np.sin(x)\n",
    "\n",
    "print(np.trapz(y, x))"
   ]
  },
  {
   "cell_type": "markdown",
   "id": "c655031f",
   "metadata": {},
   "source": [
    "## Zusammengesetzte Simpsonregel\n",
    "\n",
    "Wir approximieren das Integral\n",
    "\n",
    "$$\n",
    "\\int_0^3\\sin(x)dx\n",
    "$$\n",
    "\n",
    "mit der aus $n=2$ Teilintervallen zusammengesetzten Simpsonregel.\n",
    "Allgemein braucht die aus $n$ Teilintervallen zusammengesetzte Simpsonregel genau $2n+1$ Quadraturknoten.\n",
    "In Python geht das mit der Funktion `scipy.integrate.simpson(...)`."
   ]
  },
  {
   "cell_type": "code",
   "execution_count": null,
   "id": "f0532408",
   "metadata": {},
   "outputs": [],
   "source": [
    "import subprocess\n",
    "import sys\n",
    "subprocess.call([sys.executable, '-m', 'pip', 'install', 'scipy'])\n",
    "\n",
    "import numpy as np\n",
    "import scipy as sp\n",
    "\n",
    "a = 0.0\n",
    "b = 3.0\n",
    "n = 2\n",
    "\n",
    "x = np.linspace(a, b, 2 * n + 1, endpoint=True)\n",
    "y = np.sin(x)\n",
    "\n",
    "print(sp.integrate.simpson(y, x=x))"
   ]
  }
 ],
 "metadata": {
  "jupytext": {
   "cell_metadata_filter": "-all",
   "formats": "md:myst",
   "text_representation": {
    "extension": ".md",
    "format_name": "myst",
    "format_version": 0.13,
    "jupytext_version": "1.11.5"
   }
  },
  "kernelspec": {
   "display_name": "Python 3",
   "language": "python",
   "name": "python3"
  },
  "source_map": [
   14,
   53,
   67,
   84,
   95,
   109
  ]
 },
 "nbformat": 4,
 "nbformat_minor": 5
}