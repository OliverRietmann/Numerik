{
 "cells": [
  {
   "cell_type": "markdown",
   "id": "098fc5ad",
   "metadata": {},
   "source": [
    "# Woche 3: Taylor Approximation\n",
    "\n",
    "Lernziele:\n",
    "\n",
    "Sei eine Stelle $x_0$ und eine Funktion $f(x)$ gegeben.\n",
    "\n",
    "1. Ich kann in Python die Linearisierung von $f$ an der Stelle $x_0$ berechnen.\n",
    "2. Ich kann in Python das Taylor-Polynom vom Grad $n$ von $f$ an der Stelle $x_0$ berechnen.\n",
    "\n",
    "## Linearisierung\n",
    "\n",
    "Berechne die Linearisierung $t_1(x)$ der Funktion $f(x)=\\cos(x)$ an der Stelle $x_0=1$."
   ]
  },
  {
   "cell_type": "code",
   "execution_count": null,
   "id": "b1de6bd3",
   "metadata": {},
   "outputs": [],
   "source": [
    "import numpy as np\n",
    "import matplotlib.pyplot as plt\n",
    "\n",
    "x0 = 1.0\n",
    "f = lambda x: np.cos(x)\n",
    "df = lambda x: -np.sin(x)\n",
    "t1 = lambda x: f(x0) + (x - x0) * df(x0)\n",
    "x = np.linspace(-np.pi, np.pi, 100)\n",
    "\n",
    "plt.figure()\n",
    "plt.plot(x, t1(x), label='$t_1(x)$')\n",
    "plt.plot(x, f(x), '--', label=\"$f(x)$\")\n",
    "plt.legend()\n",
    "plt.show()"
   ]
  },
  {
   "cell_type": "markdown",
   "id": "6b9562bf",
   "metadata": {},
   "source": [
    "## Taylor Polynome\n",
    "\n",
    "Nun approximieren wir die Funktion $f(x)=\\cos(x)$ an der Stelle $x_0=1$ mit einem Taylor Polynom $t_n(x)$ vom Grad $n$, also\n",
    "\n",
    "$$\n",
    "t_n(x)=\\sum\\limits_{k=0}^n c_k\\cdot (x-x_0)^k,\\qquad c_k=\\frac{f^{(k)}}{k!}.\n",
    "$$"
   ]
  },
  {
   "cell_type": "code",
   "execution_count": null,
   "id": "8dcaface",
   "metadata": {},
   "outputs": [],
   "source": [
    "import math\n",
    "import numpy as np\n",
    "import matplotlib.pyplot as plt\n",
    "\n",
    "def taylor_coefficients(x0, fk_list):\n",
    "    derivatives = np.array([fk(x0) for fk in fk_list])\n",
    "    n = len(fk_list) - 1\n",
    "    factorials = np.array([math.factorial(k) for k in range(n + 1)])\n",
    "    return derivatives / factorials\n",
    "\n",
    "def taylor_evaluation(x, x0, c):\n",
    "    n = len(fk_list) - 1\n",
    "    return sum([c[k] * (x - x0)**k for k in range(n + 1)])\n",
    "\n",
    "f0 = lambda x: np.cos(x)\n",
    "f1 = lambda x: -np.sin(x)\n",
    "f2 = lambda x: -np.cos(x)\n",
    "f3 = lambda x: np.sin(x)\n",
    "\n",
    "x0 = 1.0\n",
    "fk_list = [f0, f1, f2, f3]\n",
    "c = taylor_coefficients(x0, fk_list)\n",
    "print(\"Taylor-Koeffizienten: \", c)\n",
    "\n",
    "x = np.linspace(-np.pi, np.pi, 100)\n",
    "\n",
    "plt.figure()\n",
    "plt.plot(x, taylor_evaluation(x, x0, c), label='$t_3(x)$')\n",
    "plt.plot(x, f0(x), '--', label=\"$f(x)$\")\n",
    "plt.legend()\n",
    "plt.show()"
   ]
  }
 ],
 "metadata": {
  "jupytext": {
   "cell_metadata_filter": "-all",
   "formats": "md:myst",
   "text_representation": {
    "extension": ".md",
    "format_name": "myst",
    "format_version": 0.13,
    "jupytext_version": "1.11.5"
   }
  },
  "kernelspec": {
   "display_name": "Python 3",
   "language": "python",
   "name": "python3"
  },
  "source_map": [
   14,
   29,
   44,
   55
  ]
 },
 "nbformat": 4,
 "nbformat_minor": 5
}