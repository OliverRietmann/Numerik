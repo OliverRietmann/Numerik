{
 "cells": [
  {
   "cell_type": "markdown",
   "id": "f5c742bc",
   "metadata": {},
   "source": [
    "# Woche 10: Quadratur\n",
    "\n",
    "Lernziele:\n",
    "\n",
    "1. Ich kann zu gegeben Knoten und Gewichten die zugerhörige Quadraturregel implementieren.\n",
    "2. Ich kann mit `numpy.trapz(...)` eine zusammengesetzte Trapezregel anwenden.\n",
    "3. Ich kann `scipy.integrate.simpson(...)` eine zusammengesetzte Simpsonregel anwenden.\n",
    "4. Ich kann `scipy.integrate.quad(...)` eine gegebene Funktion numerisch integrieren.\n",
    "\n",
    "## Trapezregel\n",
    "\n",
    "Wir approximieren das Integral\n",
    "\n",
    "$$\n",
    "\\int_^\\pi\\sin(x)dx\n",
    "$$\n",
    "\n",
    "mit einer zusammengesetzte Trapezregel.\n",
    "In Python geht das mit der Funktion `numpy.trapz(...)`."
   ]
  },
  {
   "cell_type": "code",
   "execution_count": null,
   "id": "021b00e7",
   "metadata": {},
   "outputs": [],
   "source": [
    "import numpy as np\n",
    "\n",
    "a = 0\n",
    "b = np.pi\n",
    "n = 100\n",
    "\n",
    "x = np.linspace(a, b, n + 1)\n",
    "y = np.sin(x)\n",
    "\n",
    "print(np.trapz(y, x))"
   ]
  }
 ],
 "metadata": {
  "jupytext": {
   "cell_metadata_filter": "-all",
   "formats": "md:myst",
   "text_representation": {
    "extension": ".md",
    "format_name": "myst",
    "format_version": 0.13,
    "jupytext_version": "1.11.5"
   }
  },
  "kernelspec": {
   "display_name": "Python 3",
   "language": "python",
   "name": "python3"
  },
  "source_map": [
   14,
   36
  ]
 },
 "nbformat": 4,
 "nbformat_minor": 5
}