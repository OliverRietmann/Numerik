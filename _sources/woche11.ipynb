{
 "cells": [
  {
   "cell_type": "markdown",
   "id": "088e7db0",
   "metadata": {},
   "source": [
    "# Woche 11: Differentialgleichung (DGL)\n",
    "\n",
    "Lernziele:\n",
    "\n",
    "1. Ich kann ein gegebenes Anfangswertproblem mit der expliziten Eulermethode lösen.\n",
    "2. Ich kann ein gegebenes Anfangswertproblem mit `scipy.integrate.solve_ivp(...)` lösen.\n",
    "3. Ich kann eine DGL 2. Ordnung in eine zweidimensionale DGL 1. Ordnung überführen.\n",
    "\n",
    "## Explizite Eulermethode\n",
    "\n",
    "Wir lösen das Anfangswertproblem\n",
    "\n",
    "$$\n",
    "y'(t)=-\\tfrac{1}{2}\\cdot y(t),\\qquad y(0)=100\n",
    "$$\n",
    "\n",
    "mit der expliziten Eulermethode"
   ]
  },
  {
   "cell_type": "code",
   "execution_count": null,
   "id": "35d92036",
   "metadata": {},
   "outputs": [],
   "source": [
    "import numpy as np\n",
    "import matploylib.pyplot as plt\n",
    "\n",
    "def explicit_euler(T, y0, n):\n",
    "    h = T / n\n",
    "    t = np.linspace(0.0, T, n + 1)\n",
    "    y = np.empty_like(t)\n",
    "    y[0] = y0\n",
    "    for k in range(n):\n",
    "        y[k + 1] = y[k] + h * (-0.5) * y[k]\n",
    "    return t, y\n",
    "\n",
    "T = 10.0\n",
    "y0 = 100.0\n",
    "\n",
    "t, y = explicit_euler(T, y, 50)\n",
    "\n",
    "plt.figure()\n",
    "plt.plot(t, y, label='explicit Euler')\n",
    "plt.plot(t, np.exp(-0.5 * t), label='exact')\n",
    "plt.legend()\n",
    "plt.show()"
   ]
  },
  {
   "cell_type": "markdown",
   "id": "20dd59f2",
   "metadata": {},
   "source": [
    ":::{admonition} Aufgabe\n",
    "Passen Sie die Funktion `explicit_euler(...)` so an, dass sie ein beliebiges Anfangswertproblem\n",
    "\n",
    "$$\n",
    "y'(t)=f(t, y(t)),\\qquad y(t_0)=y_0\n",
    "$$\n",
    "\n",
    "mit der expliziten Eulermethode lösen kann.\n",
    ":::"
   ]
  },
  {
   "cell_type": "code",
   "execution_count": null,
   "id": "f0cec7f1",
   "metadata": {},
   "outputs": [],
   "source": [
    "import numpy as np\n",
    "import matploylib.pyplot as plt\n",
    "\n",
    "def explicit_euler(f, t_span, y0, n):\n",
    "    h = (t_span[1] - t_span[0]) / n\n",
    "    t = np.linspace(t_span[0], t_span[1], n + 1)\n",
    "    y = np.empty_like(t)\n",
    "    y[0] = y0\n",
    "    for k in range(n):\n",
    "        y[k + 1] = y[k] + h * f(t, y[k])\n",
    "    return t, y\n",
    "\n",
    "f = lambda t, y: -0.5 * y\n",
    "t_span = [0.0, 10.0]\n",
    "y0 = 100.0\n",
    "\n",
    "t, y = explicit_euler(T, y, 50)\n",
    "\n",
    "plt.figure()\n",
    "plt.plot(t, y, label='explicit Euler')\n",
    "plt.plot(t, np.exp(-0.5 * t), label='exact')\n",
    "plt.legend()\n",
    "plt.show()"
   ]
  }
 ],
 "metadata": {
  "jupytext": {
   "cell_metadata_filter": "-all",
   "formats": "md:myst",
   "text_representation": {
    "extension": ".md",
    "format_name": "myst",
    "format_version": 0.13,
    "jupytext_version": "1.11.5"
   }
  },
  "kernelspec": {
   "display_name": "Python 3",
   "language": "python",
   "name": "python3"
  },
  "source_map": [
   14,
   34,
   57,
   68
  ]
 },
 "nbformat": 4,
 "nbformat_minor": 5
}