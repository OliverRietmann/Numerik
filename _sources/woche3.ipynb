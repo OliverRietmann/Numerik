{
 "cells": [
  {
   "cell_type": "markdown",
   "id": "37bbb9b2",
   "metadata": {},
   "source": [
    "# Woche 3: Taylor Approximation\n",
    "\n",
    "Lernziele:\n",
    "\n",
    "Sei eine Stelle $x_0$ und eine Funktion $f(x)$ gegeben.\n",
    "\n",
    "1. Ich kann in Python die Linearisierung von $f$ an der Stelle $x_0$ berechnen.\n",
    "2. Ich kann in Python das Taylor-Polynom vom Grad $n$ von $f$ an der Stelle $x_0$ berechnen.\n",
    "\n",
    "## Linearisierung\n",
    "\n",
    "Berechne die Linearisierung $t_1(x)$ der Funktion $f(x)=\\cos(x)$ an der Stelle $x_0=1$."
   ]
  },
  {
   "cell_type": "code",
   "execution_count": null,
   "id": "4c99dec2",
   "metadata": {},
   "outputs": [],
   "source": [
    "import numpy as np\n",
    "import matplotlib.pyplot as plt\n",
    "\n",
    "x0 = 1.0\n",
    "f = lambda x: np.cos(x)\n",
    "df = lambda x: -np.sin(x)\n",
    "t1 = lambda x: f(x0) + (x - x0) * df(x0)\n",
    "x = np.linspace(-np.pi, np.pi, 100)\n",
    "\n",
    "plt.figure()\n",
    "plt.plot(x, t1(x), label='$t_1(x)$')\n",
    "plt.plot(x, f(x), '--', label=\"$f(x)$\")\n",
    "plt.legend()\n",
    "plt.show()"
   ]
  }
 ],
 "metadata": {
  "jupytext": {
   "cell_metadata_filter": "-all",
   "formats": "md:myst",
   "text_representation": {
    "extension": ".md",
    "format_name": "myst",
    "format_version": 0.13,
    "jupytext_version": "1.11.5"
   }
  },
  "kernelspec": {
   "display_name": "Python 3",
   "language": "python",
   "name": "python3"
  },
  "source_map": [
   14,
   29
  ]
 },
 "nbformat": 4,
 "nbformat_minor": 5
}