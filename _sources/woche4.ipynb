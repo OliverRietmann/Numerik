{
 "cells": [
  {
   "cell_type": "markdown",
   "id": "d8420931",
   "metadata": {},
   "source": [
    "# Woche 4: Nullstellen nichtlinearer Funktionen\n",
    "\n",
    "Lernziele:\n",
    "\n",
    "1. Ich kann eine nichtlineare Gleichung in eine Nullstellensuche umschreiben.\n",
    "2. Ich kann die Bisektion in Python implementieren.\n",
    "3. Ich kann das Newton Verfahren in Python implementieren.\n",
    "4. Ich kenne die Vor- und Nachteile dieser Methoden.\n",
    "\n",
    "## Bisektion\n",
    "\n",
    "Anführungszeichen `\"...\"` definieren eine Zeichenkette (engl. string)."
   ]
  },
  {
   "cell_type": "code",
   "execution_count": null,
   "id": "e2ad5625",
   "metadata": {},
   "outputs": [],
   "source": [
    "def bisection(f, a, b, tol):\n",
    "    assert(f(a) * f(b) < 0)\n",
    "    while abs(b-a) > tol:\n",
    "        m = (a + b) / 2\n",
    "        fm = f(m)\n",
    "        if fm == 0.0:\n",
    "            return m, m\n",
    "        elif fm * f(b) < 0:\n",
    "            a = m\n",
    "        else:\n",
    "            b = m\n",
    "    return [a, b]\n",
    "\n",
    "f = lambda x: x**2 - 3\n",
    "a = 1\n",
    "b = 2\n",
    "\n",
    "# sqrt(3) = 1.7320508075688772\n",
    "print(bisection(f, a, b, 1.0e-3))"
   ]
  },
  {
   "cell_type": "markdown",
   "id": "2f75f4fe",
   "metadata": {},
   "source": [
    "## Newton Verfahren\n",
    "\n",
    "Das Heronsche Näherungsverfahren approximiert die Wurzel $\\sqrt{a}$ einer positiven Zahl $a$, oder äquivalent die Nullstelle von $f(x)=x^2-a$.\n",
    "Es ist definiert durch die Folge\n",
    "\n",
    "$$\n",
    "x_{k+1}=\\frac{1}{2}\\bigg(x_k+\\frac{a}{x_k}\\bigg)\n",
    "$$\n",
    "\n",
    "und diese konvergiert dann gegen $\\sqrt{a}$."
   ]
  },
  {
   "cell_type": "code",
   "execution_count": null,
   "id": "365f5a93",
   "metadata": {},
   "outputs": [],
   "source": [
    "def heron(a, x, tol):\n",
    "    while abs(x**2 - a) > tol:\n",
    "        x = 0.5 * (x + a / x)\n",
    "    return x\n",
    "\n",
    "a = 3.0\n",
    "x = 2.0\n",
    "\n",
    "# sqrt(3) = 1.7320508075688772\n",
    "print(newton(x, a, 1.0e-3))"
   ]
  },
  {
   "cell_type": "markdown",
   "id": "b3970dbd",
   "metadata": {},
   "source": [
    "Das Newton Verfahren für eine stetig differenzierbare Funktion $f:\\mathbb R\\rightarrow\\mathbb R$ ist definiert durch die Folge\n",
    "\n",
    "$$\n",
    "x_{k+1}=x_k-\\frac{f(x_k)}{f^\\prime(x_k)}\n",
    "$$\n",
    "\n",
    "mit einem geeigneten Startwert $x_0$.\n",
    "Dieser sollte nahe bei der tatsächlichen Nullstelle $x^\\ast$ liegen."
   ]
  },
  {
   "cell_type": "code",
   "execution_count": null,
   "id": "267ad650",
   "metadata": {},
   "outputs": [],
   "source": [
    "def newton(f, df, x, tol):\n",
    "    while abs(f(x)) > tol:\n",
    "        x = x - f(x) / df(x)\n",
    "    return x\n",
    "\n",
    "f = lambda x: x**2 - 3\n",
    "df = lambda x: 2 * x\n",
    "x = 2.0\n",
    "\n",
    "# sqrt(3) = 1.7320508075688772\n",
    "print(newton(f, df, x, 1.0e-3))"
   ]
  }
 ],
 "metadata": {
  "jupytext": {
   "cell_metadata_filter": "-all",
   "formats": "md:myst",
   "text_representation": {
    "extension": ".md",
    "format_name": "myst",
    "format_version": 0.13,
    "jupytext_version": "1.11.5"
   }
  },
  "kernelspec": {
   "display_name": "Python 3",
   "language": "python",
   "name": "python3"
  },
  "source_map": [
   14,
   28,
   48,
   61,
   72,
   83
  ]
 },
 "nbformat": 4,
 "nbformat_minor": 5
}