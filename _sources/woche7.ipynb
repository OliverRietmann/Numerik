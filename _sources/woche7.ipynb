{
 "cells": [
  {
   "cell_type": "markdown",
   "id": "e1bf0804",
   "metadata": {},
   "source": [
    "# Woche 7: Gauss-Algorithmus\n",
    "\n",
    "Lernziele:\n",
    "\n",
    "\n",
    "\n",
    "## Linear Gleichungssysteme\n",
    "\n",
    "Ein lineares Gleichungssystem (LGS) ist eine Gleichung der Form\n",
    "\n",
    "$$\n",
    "Ax=b.\n",
    "$$\n",
    "\n",
    "Hier ist $A$ eine Matrix und $b$ ein Vektor.\n",
    "Beide sind gegeben.\n",
    "Der Vektor $x$ ist die gesuchte Grösse.\n",
    "Wir betrachten hier nur den Spezialfall wo $A$ eine **quadratische** Matrix ist.\n",
    "Hier ist ein Beispiel\n",
    "\n",
    "$$\n",
    "A:=\n",
    "\\begin{pmatrix}\n",
    "    0 & 1 & 0 \\\\\n",
    "    1 & 0 & 1 \\\\\n",
    "    1 & 1 & 0\n",
    "\\end{pmatrix},\\qquad\n",
    "b:=\n",
    "\\begin{pmatrix}\n",
    "    1 \\\\\n",
    "    1000 \\\\\n",
    "    1\n",
    "\\end{pmatrix}\n",
    "$$\n",
    "\n",
    "Das entsprechende LGS lösen wir in Python mit `numpy.linalg.solve(...)`."
   ]
  },
  {
   "cell_type": "code",
   "execution_count": null,
   "id": "e5dfbb72",
   "metadata": {},
   "outputs": [],
   "source": [
    "import numpy as np\n",
    "\n",
    "A = np.array([[1.0e-20, 1.0, 0.0],\n",
    "              [1.0, 0.0, 1.0],\n",
    "              [1.0, 1.0, 0.0]])\n",
    "b = np.array([1.0, 1000.0, 1.0])\n",
    "\n",
    "x = np.linalg.solve(A, b)\n",
    "\n",
    "print(x)\n",
    "print(np.dot(A, x))"
   ]
  },
  {
   "cell_type": "markdown",
   "id": "0b393a19",
   "metadata": {},
   "source": [
    ":::{admonition} Aufgabe\n",
    "test\n",
    ":::"
   ]
  }
 ],
 "metadata": {
  "jupytext": {
   "cell_metadata_filter": "-all",
   "formats": "md:myst",
   "text_representation": {
    "extension": ".md",
    "format_name": "myst",
    "format_version": 0.13,
    "jupytext_version": "1.11.5"
   }
  },
  "kernelspec": {
   "display_name": "Python 3",
   "language": "python",
   "name": "python3"
  },
  "source_map": [
   14,
   53,
   65
  ]
 },
 "nbformat": 4,
 "nbformat_minor": 5
}