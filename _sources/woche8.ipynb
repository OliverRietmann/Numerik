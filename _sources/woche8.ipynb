{
 "cells": [
  {
   "cell_type": "markdown",
   "id": "d4bc2233",
   "metadata": {},
   "source": [
    "# Woche 8: Ausgleichsrechnung (Regression)\n",
    "\n",
    "Lernziele:\n",
    "\n",
    "1. Ich kann mit `numpy.linalg.solve(...)` ein LGS numerisch lösen.\n",
    "2. Ich kann erklären, wann und warum der Gauss-Algorithmus schlechte Lösungen liefert.\n",
    "\n",
    "## Gerade\n",
    "\n",
    "Wir wollen eine Gerade $f(x)=mx+b$ an gegebene Punkte $(x_i,y_i),i=1,\\ldots,n$ fitten.\n",
    "Die zugehörige Normalengleichung lautet\n",
    "$$\n",
    "A^TA\\cdot\n",
    "\\begin{pmatrix}\n",
    "    b \\\\\n",
    "    m\n",
    "\\end{pmatrix}\n",
    "=A^Ty\n",
    "$$\n",
    "wobei\n",
    "$$\n",
    "A:=\n",
    "\\begin{pmatrix}\n",
    "    1 & x_1 \\\\\n",
    "    1 & x_2 \\\\\n",
    "    \\vdots & \\vdots \\\\\n",
    "    1 & x_m\n",
    "\\end{pmatrix},\\qquad\n",
    "y:=\n",
    "\\begin{pmatrix}\n",
    "    y_1 \\\\\n",
    "    y_2 \\\\\n",
    "    \\vdots \\\\\n",
    "    y_m\n",
    "\\end{pmatrix}.\n",
    "$$\n",
    "\n",
    "Wir lösen die Normalengleichung mit 'numpy.linalg.solve(...)'."
   ]
  },
  {
   "cell_type": "code",
   "execution_count": null,
   "id": "5fc9776d",
   "metadata": {},
   "outputs": [],
   "source": [
    "import numpy as np\n",
    "import matplotlib.pyplot as plt\n",
    "\n",
    "n = 50\n",
    "x = np.linspace(-2.5, 2.5, n)\n",
    "y = 2.0 * x + 3.0 + 0.5 * np.random.rand(n)\n",
    "\n",
    "A = np.column_stack((np.ones_like(x), x, x**2))\n",
    "AT = np.transpose(A)\n",
    "\n",
    "b, m = np.linalg.solve(AT @ A, np.dot(A, y))\n",
    "\n",
    "plt.figure()\n",
    "plt.plot(x, y, 'bo')\n",
    "plt.plot(x, m * x + b, 'r-')\n",
    "plt.show()\n",
    "plt.clear()"
   ]
  }
 ],
 "metadata": {
  "jupytext": {
   "cell_metadata_filter": "-all",
   "formats": "md:myst",
   "text_representation": {
    "extension": ".md",
    "format_name": "myst",
    "format_version": 0.13,
    "jupytext_version": "1.11.5"
   }
  },
  "kernelspec": {
   "display_name": "Python 3",
   "language": "python",
   "name": "python3"
  },
  "source_map": [
   14,
   55
  ]
 },
 "nbformat": 4,
 "nbformat_minor": 5
}