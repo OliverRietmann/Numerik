{
 "cells": [
  {
   "cell_type": "markdown",
   "id": "22f0dffd",
   "metadata": {},
   "source": [
    "# Woche 8: Ausgleichsrechnung (Regression)\n",
    "\n",
    "Lernziele:\n",
    "\n",
    "1. Ich kann mit `numpy.linalg.solve(...)` ein LGS numerisch lösen.\n",
    "2. Ich kann erklären, wann und warum der Gauss-Algorithmus schlechte Lösungen liefert.\n",
    "\n",
    "## Gerade\n",
    "\n",
    "Wir wollen eine Gerade $f(x)=mx+b$ an gegebene Punkte $(x_i,y_i),i=1,\\ldots,n$ fitten.\n",
    "Die zugehörige Normalengleichung lautet\n",
    "\n",
    "$$\n",
    "A^TA\\cdot\n",
    "\\begin{pmatrix}\n",
    "    b \\\\\n",
    "    m\n",
    "\\end{pmatrix}\n",
    "=A^Ty\n",
    "$$\n",
    "\n",
    "wobei\n",
    "\n",
    "$$\n",
    "A:=\n",
    "\\begin{pmatrix}\n",
    "    1 & x_1 \\\\\n",
    "    1 & x_2 \\\\\n",
    "    \\vdots & \\vdots \\\\\n",
    "    1 & x_n\n",
    "\\end{pmatrix},\\qquad\n",
    "y:=\n",
    "\\begin{pmatrix}\n",
    "    y_1 \\\\\n",
    "    y_2 \\\\\n",
    "    \\vdots \\\\\n",
    "    y_n\n",
    "\\end{pmatrix}.\n",
    "$$\n",
    "\n",
    "Wir lösen die Normalengleichung mit `numpy.linalg.solve(...)`."
   ]
  },
  {
   "cell_type": "code",
   "execution_count": null,
   "id": "b94a5867",
   "metadata": {},
   "outputs": [],
   "source": [
    "import numpy as np\n",
    "import matplotlib.pyplot as plt\n",
    "\n",
    "n = 30\n",
    "x = np.linspace(-2.5, 2.5, n)\n",
    "noise = np.random.rand(n) - 0.5\n",
    "y = 2.0 * x + 3.0 + noise\n",
    "\n",
    "A = np.column_stack((np.ones(n), x))\n",
    "AT = np.transpose(A)\n",
    "b, m = np.linalg.solve(AT @ A, np.dot(AT, y))\n",
    "print(m, b)\n",
    "\n",
    "plt.figure()\n",
    "plt.plot(x, y, 'bo')\n",
    "plt.plot(x, m * x + b, 'r-')\n",
    "plt.show()"
   ]
  },
  {
   "cell_type": "markdown",
   "id": "9e4891a7",
   "metadata": {},
   "source": [
    "## Allgemeine Polynome\n",
    "\n",
    "Nun wollen wir ein Polynom von Grad 3 fitten.\n",
    "Die Normalengleichung für den Koeffizientenvektor $p$ dieses Polynoms lautet\n",
    "\n",
    "$$\n",
    "A^TA\\cdot\n",
    "\\begin{pmatrix}\n",
    "    b \\\\\n",
    "    m\n",
    "\\end{pmatrix}\n",
    "=A^Ty,\\qquad\n",
    "A:=\n",
    "\\begin{pmatrix}\n",
    "    1 & x_1 & x_1^2 & x_1^3 \\\\\n",
    "    1 & x_2 & x_2^2 & x_2^3 \\\\\n",
    "    \\vdots & \\vdots & \\vdots & \\vdots \\\\\n",
    "    1 & x_n & x_n^2 & x_n^3 \\\\\n",
    "\\end{pmatrix}.\n",
    "$$"
   ]
  },
  {
   "cell_type": "code",
   "execution_count": null,
   "id": "6bede00c",
   "metadata": {},
   "outputs": [],
   "source": [
    "import numpy as np\n",
    "import matplotlib.pyplot as plt\n",
    "\n",
    "n = 30\n",
    "x = np.linspace(-2.5, 2.5, n)\n",
    "noise = 0.5 * np.random.rand(n) - 0.25\n",
    "y = np.tanh(x) + noise\n",
    "\n",
    "A = np.column_stack((np.ones(n), x, x**2, x**3))\n",
    "AT = np.transpose(A)\n",
    "p = np.linalg.solve(AT @ A, np.dot(AT, y))\n",
    "print(p)\n",
    "\n",
    "plt.figure()\n",
    "plt.plot(x, y, 'bo')\n",
    "plt.plot(x, np.dot(A, p), 'r-')\n",
    "plt.show()"
   ]
  },
  {
   "cell_type": "markdown",
   "id": "855ec382",
   "metadata": {},
   "source": [
    "## Beliebige Funktionen"
   ]
  }
 ],
 "metadata": {
  "jupytext": {
   "cell_metadata_filter": "-all",
   "formats": "md:myst",
   "text_representation": {
    "extension": ".md",
    "format_name": "myst",
    "format_version": 0.13,
    "jupytext_version": "1.11.5"
   }
  },
  "kernelspec": {
   "display_name": "Python 3",
   "language": "python",
   "name": "python3"
  },
  "source_map": [
   14,
   58,
   76,
   99,
   117
  ]
 },
 "nbformat": 4,
 "nbformat_minor": 5
}