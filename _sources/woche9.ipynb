{
 "cells": [
  {
   "cell_type": "markdown",
   "id": "ae1d7c69",
   "metadata": {},
   "source": [
    "# Woche 9: Interpolation\n",
    "\n",
    "Lernziele:\n",
    "\n",
    "1. Ich kann aus der Interpolationsbedinung ein LGS für die Koeffizienten bestimmen.\n",
    "2. Ich kann mit `numpy.linalg.solve(...)` ein LGS lösen.\n",
    "3. Ich kann eine Polynom-Interpolation mit den Funktionen `numpy.polyfit(...)` und `numpy.polyval(...)` ausführen.\n",
    "\n",
    "## Polynom-Interpolation\n",
    "\n",
    "Wir wollen ein das Interpolationspolynom $p_n(x)$ durch die Punkte $(x_i,y_i),i=0,\\ldots,n$ berechnen, wobei\n",
    "\n",
    "$$\n",
    "p_n(x)=a_0+a_1x+a_2x^2+\\cdots+a_nx^n.\n",
    "$$\n",
    "\n",
    "Die Interpolationsbedingung liefert das LGS\n",
    "\n",
    "$$\n",
    "\\begin{pmatrix}\n",
    "    1 & x_0 & x_0^2 & \\cdots & x_0^n \\\\\n",
    "    1 & x_1 & x_1^2 & \\cdots & x_1^n \\\\\n",
    "    \\vdots & \\vdots & \\vdots & \\vdots & \\vdots \\\\\n",
    "    1 & x_n & x_n^2 & \\cdots & x_n^n \\\\\n",
    "\\end{pmatrix}\n",
    "\\begin{pmatrix}\n",
    "    a_0 \\\\\n",
    "    a_1 \\\\\n",
    "    a_2 \\\\\n",
    "    \\vdots \\\\\n",
    "    a_n\n",
    "\\end{pmatrix}\n",
    "=\n",
    "\\begin{pmatrix}\n",
    "    y_0 \\\\\n",
    "    y_1 \\\\\n",
    "    y_2 \\\\\n",
    "    \\vdots \\\\\n",
    "    y_n\n",
    "\\end{pmatrix}.\n",
    "$$\n",
    "\n",
    "Wir lösen dieses mit `numpy.linalg.solve(...)`."
   ]
  },
  {
   "cell_type": "code",
   "execution_count": null,
   "id": "ef7483c2",
   "metadata": {},
   "outputs": [],
   "source": [
    "import numpy as np\n",
    "import matplotlib.pyplot as plt\n",
    "\n",
    "x = np.array([0.0, 0.5, 1.0, 1.5, 2.0])\n",
    "y = np.array([1.0, 1.0, 0.0, 0.0, 3.0])\n",
    "\n",
    "V = np.vander(x, increasing=True)\n",
    "a = np.linalg.solve(V, y)\n",
    "p = lambda x: sum([a[i] * x**i for i in range(len(a))])\n",
    "\n",
    "x_values = np.linspace(0.0, 2.0, 100)\n",
    "y_values = p(x_values)\n",
    "\n",
    "plt.figure()\n",
    "plt.plot(x, y, 'bo')\n",
    "plt.plot(x_values, y_values, 'r-')\n",
    "plt.show()"
   ]
  },
  {
   "cell_type": "markdown",
   "id": "71634db1",
   "metadata": {},
   "source": [
    "Alternativ kann man auch `numpy.polyfit(...)` und `numpy.polyval(...)` verwenden."
   ]
  },
  {
   "cell_type": "code",
   "execution_count": null,
   "id": "a25731b8",
   "metadata": {},
   "outputs": [],
   "source": [
    "import numpy as np\n",
    "import matplotlib.pyplot as plt\n",
    "\n",
    "x = np.array([0.0, 0.5, 1.0, 1.5, 2.0])\n",
    "y = np.array([1.0, 1.0, 0.0, 0.0, 3.0])\n",
    "\n",
    "a = np.polyfit(x, y, len(x) - 1)\n",
    "\n",
    "x_values = np.linspace(0.0, 2.0, 100)\n",
    "y_values = np.polyval(a, x_values)\n",
    "\n",
    "plt.figure()\n",
    "plt.plot(x, y, 'bo')\n",
    "plt.plot(x_values, y_values, 'r-')\n",
    "plt.show()"
   ]
  },
  {
   "cell_type": "markdown",
   "id": "077cbd86",
   "metadata": {},
   "source": [
    "## Lagrange Polynome\n",
    "\n",
    "Seinen wieder Punkte $(x_i,y_i),i=0,\\ldots,n$ gegeben.\n",
    "Unser Interpolationspolynom ist nun von der Form\n",
    "\n",
    "$$\n",
    "p_n(x)=y_0\\ell_0(x)+y_1\\ell_1(x)+\\cdots+y_n\\ell_n(x)\n",
    "$$\n",
    "\n",
    "mit den Lagrange Polynomen\n",
    "\n",
    "$$\n",
    "\\ell_i(x)=\\prod\\limits_{k\\neq i}\\frac{x-x_k}{x_i-x_k}.\n",
    "$$\n",
    "\n",
    "Der folgende Plot visualisiert die definierende Eigenschaft\n",
    "\n",
    "$$\n",
    "\\ell_i(x_k)=\n",
    "\\begin{cases}\n",
    "0,\\ i\\neq k\\\\\n",
    "1,\\ i=k\n",
    "\\end{cases}\n",
    "$$\n",
    "\n",
    "der Lagrange Polynome."
   ]
  },
  {
   "cell_type": "code",
   "execution_count": null,
   "id": "fb57a0f5",
   "metadata": {},
   "outputs": [],
   "source": [
    "import numpy as np\n",
    "import matplotlib.pyplot as plt\n",
    "\n",
    "x = np.array([0.0, 0.5, 1.0, 1.5, 2.0])\n",
    "y = np.array([1.0, 1.0, 0.0, 0.0, 3.0])\n",
    "\n",
    "def Lagrange_factory(x, i):\n",
    "    xi = x[i]\n",
    "    x_without_i = np.delete(x, [i])\n",
    "    return lambda z: np.prod([(z - xk) / (xi - xk) for xk in x_without_i], axis=0)\n",
    "\n",
    "n = len(x)\n",
    "l = [Lagrange_factory(x, i) for i in range(n)]\n",
    "\n",
    "x_values = np.linspace(0.0, 2.0, 100)\n",
    "y_values = sum(y[i] * l[i](x_values) for i in range(n))\n",
    "\n",
    "plt.figure()\n",
    "plt.plot(x, y, 'bo')\n",
    "plt.plot(x_values, y_values, 'k-', label=r\"$p_{0}(x)$\".format(n + 1))\n",
    "for i in range(n):\n",
    "\tplt.plot(x_values, l[i](x_values), '--', label=r\"$l_{0}(x)$\".format(i))\n",
    "plt.legend()\n",
    "plt.show()"
   ]
  },
  {
   "cell_type": "markdown",
   "id": "28f6a21c",
   "metadata": {},
   "source": [
    "## Splines\n",
    "\n",
    "Lineare Splines können mit `numpy.interp(...)` berechnet werden."
   ]
  },
  {
   "cell_type": "code",
   "execution_count": null,
   "id": "f5613d61",
   "metadata": {},
   "outputs": [],
   "source": [
    "import numpy as np\n",
    "import matplotlib.pyplot as plt\n",
    "\n",
    "x = np.array([0.0, 0.5, 1.0, 1.5, 2.0])\n",
    "y = np.array([1.0, 1.0, 0.0, 0.0, 3.0])\n",
    "\n",
    "x_values = np.linspace(0.0, 2.0, 100)\n",
    "y_values = np.interp(x_values, x, y)\n",
    "\n",
    "plt.figure()\n",
    "plt.plot(x, y, 'bo')\n",
    "plt.plot(x_values, y_values, 'r-')\n",
    "plt.show()"
   ]
  }
 ],
 "metadata": {
  "jupytext": {
   "cell_metadata_filter": "-all",
   "formats": "md:myst",
   "text_representation": {
    "extension": ".md",
    "format_name": "myst",
    "format_version": 0.13,
    "jupytext_version": "1.11.5"
   }
  },
  "kernelspec": {
   "display_name": "Python 3",
   "language": "python",
   "name": "python3"
  },
  "source_map": [
   14,
   60,
   78,
   82,
   98,
   127,
   152,
   158
  ]
 },
 "nbformat": 4,
 "nbformat_minor": 5
}